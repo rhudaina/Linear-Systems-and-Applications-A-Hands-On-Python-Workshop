{
  "nbformat": 4,
  "nbformat_minor": 0,
  "metadata": {
    "colab": {
      "provenance": []
    },
    "kernelspec": {
      "name": "python3",
      "display_name": "Python 3"
    },
    "language_info": {
      "name": "python"
    }
  },
  "cells": [
    {
      "cell_type": "markdown",
      "source": [
        "<a href=\"https://colab.research.google.com/github/rhudaina/Linear-Systems-and-Applications-A-Hands-On-Python-Workshop/blob/main/Day1/Day_1_Hands_on_Activity_1.ipynb\" target=\"_parent\"><img src=\"https://colab.research.google.com/assets/colab-badge.svg\" alt=\"Open In Colab\"/></a>"
      ],
      "metadata": {
        "id": "z78EioSmX3ld"
      }
    },
    {
      "cell_type": "markdown",
      "source": [
        "# Level 1"
      ],
      "metadata": {
        "id": "tXI0HCiHZ7h6"
      }
    },
    {
      "cell_type": "markdown",
      "source": [
        "#### 1. Import the numpy package under the name `np`"
      ],
      "metadata": {
        "id": "acBxs8mNaB3k"
      }
    },
    {
      "cell_type": "code",
      "execution_count": null,
      "metadata": {
        "id": "dW-38VdTZqHh"
      },
      "outputs": [],
      "source": []
    },
    {
      "cell_type": "markdown",
      "source": [
        "#### 2. Print a zero vector of size 10 but the fifth value which is 1"
      ],
      "metadata": {
        "id": "ki2GTXFkaIvI"
      }
    },
    {
      "cell_type": "code",
      "source": [],
      "metadata": {
        "id": "uYo50uqwaISf"
      },
      "execution_count": null,
      "outputs": []
    },
    {
      "cell_type": "markdown",
      "source": [
        "#### 3. Create vector `z` with values ranging from 10 to 49"
      ],
      "metadata": {
        "id": "xyb3GYRfaJ2N"
      }
    },
    {
      "cell_type": "code",
      "source": [],
      "metadata": {
        "id": "z3nIf7hSawu2"
      },
      "execution_count": null,
      "outputs": []
    },
    {
      "cell_type": "markdown",
      "source": [
        "#### 4. Print vector `z` in reverse order"
      ],
      "metadata": {
        "id": "vGGW8XJjawYQ"
      }
    },
    {
      "cell_type": "code",
      "source": [],
      "metadata": {
        "id": "nxZGiFDdbLBo"
      },
      "execution_count": null,
      "outputs": []
    },
    {
      "cell_type": "markdown",
      "source": [
        "#### 5. Print a 5x5 matrix with values ranging from 2 to 26"
      ],
      "metadata": {
        "id": "Shbpok5BbKp8"
      }
    },
    {
      "cell_type": "code",
      "source": [],
      "metadata": {
        "id": "rraYqFl9bf0O"
      },
      "execution_count": null,
      "outputs": []
    },
    {
      "cell_type": "markdown",
      "source": [
        "#### 6. Find indices of non-zero elements from `[1,2,0,0,4,0,5,0,0,0,7]`"
      ],
      "metadata": {
        "id": "kdIgTrVCbgHh"
      }
    },
    {
      "cell_type": "code",
      "source": [],
      "metadata": {
        "id": "QjfYmyFIblik"
      },
      "execution_count": null,
      "outputs": []
    },
    {
      "cell_type": "markdown",
      "source": [
        "#### 7. Print a 4x4 identity matrix"
      ],
      "metadata": {
        "id": "IYpxK-xpbmQI"
      }
    },
    {
      "cell_type": "code",
      "source": [],
      "metadata": {
        "id": "iBdXPP0qbtCP"
      },
      "execution_count": null,
      "outputs": []
    },
    {
      "cell_type": "markdown",
      "source": [
        "#### 8. Create a 3x3x3 array with random values"
      ],
      "metadata": {
        "id": "U4rXSKsYbtTd"
      }
    },
    {
      "cell_type": "code",
      "source": [],
      "metadata": {
        "id": "VyVujZrkbzS7"
      },
      "execution_count": null,
      "outputs": []
    },
    {
      "cell_type": "markdown",
      "source": [
        "#### 9. Create a 10x10 array with random values and find the minimum and maximum values"
      ],
      "metadata": {
        "id": "C55trtSUbzi0"
      }
    },
    {
      "cell_type": "code",
      "source": [],
      "metadata": {
        "id": "7ob1M8WSb06v"
      },
      "execution_count": null,
      "outputs": []
    },
    {
      "cell_type": "markdown",
      "source": [
        "#### 10. Print a 10x10 array with 1 on the border and 0 inside"
      ],
      "metadata": {
        "id": "01rlTXWvcCYs"
      }
    },
    {
      "cell_type": "code",
      "source": [],
      "metadata": {
        "id": "lRMl1lRlcJGD"
      },
      "execution_count": null,
      "outputs": []
    },
    {
      "cell_type": "markdown",
      "source": [
        "#### 11. Create a random 5x5 array and add a border (filled with 0's) around it. Use `np.pad`."
      ],
      "metadata": {
        "id": "d5fsCdewcOYo"
      }
    },
    {
      "cell_type": "code",
      "source": [],
      "metadata": {
        "id": "w9IICwwdcUxq"
      },
      "execution_count": null,
      "outputs": []
    },
    {
      "cell_type": "markdown",
      "source": [
        "#### 12. Print a 5x5 matrix with values 1,2,3,4 just below the diagonal"
      ],
      "metadata": {
        "id": "SKzTRkQmclpB"
      }
    },
    {
      "cell_type": "code",
      "source": [],
      "metadata": {
        "id": "bmBhr1bBcpQc"
      },
      "execution_count": null,
      "outputs": []
    },
    {
      "cell_type": "markdown",
      "source": [
        "#### 13. Print a 8x8 matrix and fill it with a checkerboard pattern of 0s and 1s"
      ],
      "metadata": {
        "id": "U_hDCi0tcov7"
      }
    },
    {
      "cell_type": "code",
      "source": [],
      "metadata": {
        "id": "rkiFiRJ8ct3s"
      },
      "execution_count": null,
      "outputs": []
    },
    {
      "cell_type": "markdown",
      "source": [
        "#### 14. Create a checkerboard 8x8 matrix using `np.tile`"
      ],
      "metadata": {
        "id": "gohq7h7mcuM6"
      }
    },
    {
      "cell_type": "code",
      "source": [],
      "metadata": {
        "id": "6aQOBdUcdCA_"
      },
      "execution_count": null,
      "outputs": []
    },
    {
      "cell_type": "markdown",
      "source": [
        "#### 15. Normalize a 5x5 random matrix"
      ],
      "metadata": {
        "id": "BXZDXg6NdCQj"
      }
    },
    {
      "cell_type": "code",
      "source": [],
      "metadata": {
        "id": "XMIgIgMPdF2K"
      },
      "execution_count": null,
      "outputs": []
    },
    {
      "cell_type": "markdown",
      "source": [
        "#### 16. Multiply a 5x3 random matrix by a 3x2 random matrix (real matrix product)"
      ],
      "metadata": {
        "id": "bKpfYf3GdHce"
      }
    },
    {
      "cell_type": "code",
      "source": [],
      "metadata": {
        "id": "ncrs-E7TdPjD"
      },
      "execution_count": null,
      "outputs": []
    },
    {
      "cell_type": "markdown",
      "source": [
        "#### 17. Given an array ranging from 0 to 10, create a new array by multiplying all elements between 3 and 8 by $-1$ in place."
      ],
      "metadata": {
        "id": "C1tL-keKdWwV"
      }
    },
    {
      "cell_type": "code",
      "source": [],
      "metadata": {
        "id": "2uqa_t87d_Km"
      },
      "execution_count": null,
      "outputs": []
    },
    {
      "cell_type": "markdown",
      "source": [
        "#### 18. Create two random integer arrays of the same size. How do to find common values between the two arrays?"
      ],
      "metadata": {
        "id": "rLEt_sUtdP8T"
      }
    },
    {
      "cell_type": "code",
      "source": [],
      "metadata": {
        "id": "Qr10NJhKeSEd"
      },
      "execution_count": null,
      "outputs": []
    },
    {
      "cell_type": "markdown",
      "source": [
        "#### 19. How to get the dates of yesterday, today and tomorrow?"
      ],
      "metadata": {
        "id": "mXrzL_F_eXgt"
      }
    },
    {
      "cell_type": "code",
      "source": [],
      "metadata": {
        "id": "8GKCduCweXPy"
      },
      "execution_count": null,
      "outputs": []
    },
    {
      "cell_type": "markdown",
      "source": [
        "#### 20. Create two random vectors $a,b$ of size 5. Compute $$-\\frac{a}{2}(a+b)$$ in place (without using `copy`)?"
      ],
      "metadata": {
        "id": "O5_9kUyTeYjn"
      }
    },
    {
      "cell_type": "code",
      "source": [],
      "metadata": {
        "id": "kD91W2ZYe3xz"
      },
      "execution_count": null,
      "outputs": []
    },
    {
      "cell_type": "markdown",
      "source": [],
      "metadata": {
        "id": "CJR35uR2e6OO"
      }
    },
    {
      "cell_type": "markdown",
      "source": [
        "# Level 2"
      ],
      "metadata": {
        "id": "EftJ1usZZ9ej"
      }
    },
    {
      "cell_type": "markdown",
      "source": [
        "#### 1. Extract the integer part of a random array of positive numbers using 4 different methods"
      ],
      "metadata": {
        "id": "pJrwq7kee98s"
      }
    },
    {
      "cell_type": "code",
      "source": [],
      "metadata": {
        "id": "eaSqFKmae_N7"
      },
      "execution_count": null,
      "outputs": []
    },
    {
      "cell_type": "markdown",
      "source": [
        "#### 2. Create two random integer 1D arrays a and b. Check if they are equal"
      ],
      "metadata": {
        "id": "vm5Q0foae_kD"
      }
    },
    {
      "cell_type": "code",
      "source": [],
      "metadata": {
        "id": "doQR--Xaf4F_"
      },
      "execution_count": null,
      "outputs": []
    },
    {
      "cell_type": "markdown",
      "source": [
        "#### 3. Create a random 10x2 matrix representing cartesian coordinates, convert them to polar coordinates."
      ],
      "metadata": {
        "id": "CAafGZVvf4Xb"
      }
    },
    {
      "cell_type": "code",
      "source": [],
      "metadata": {
        "id": "pvF05KxOf7ov"
      },
      "execution_count": null,
      "outputs": []
    },
    {
      "cell_type": "markdown",
      "source": [
        "#### 4. Create random vector of size 10 and replace the maximum value by 0"
      ],
      "metadata": {
        "id": "aIBQWM8Of76t"
      }
    },
    {
      "cell_type": "code",
      "source": [],
      "metadata": {
        "id": "sQW1vvrNf_TU"
      },
      "execution_count": null,
      "outputs": []
    },
    {
      "cell_type": "markdown",
      "source": [
        "#### 5. Write a code that determines the closest value (to a given scalar) in a vector."
      ],
      "metadata": {
        "id": "CCUf_tkVgEuI"
      }
    },
    {
      "cell_type": "code",
      "source": [],
      "metadata": {
        "id": "zZ162H96gEcr"
      },
      "execution_count": null,
      "outputs": []
    },
    {
      "cell_type": "markdown",
      "source": [
        "#### 6. Create a random vector with shape `(100,2)` representing coordinates, find point by point distances"
      ],
      "metadata": {
        "id": "dicjkZxxgNWE"
      }
    },
    {
      "cell_type": "code",
      "source": [],
      "metadata": {
        "id": "HK4z7VlWgRUy"
      },
      "execution_count": null,
      "outputs": []
    },
    {
      "cell_type": "markdown",
      "source": [
        "#### 7. Convert a random float (32 bits) array into an integer (32 bits) in place."
      ],
      "metadata": {
        "id": "3SMcdenTgUB_"
      }
    },
    {
      "cell_type": "code",
      "source": [],
      "metadata": {
        "id": "oixXfRF_gZmM"
      },
      "execution_count": null,
      "outputs": []
    },
    {
      "cell_type": "markdown",
      "source": [
        "#### 8. Create a 10x10 zero matrix. Randomly place fives 1s in the matrix?"
      ],
      "metadata": {
        "id": "LXr8W58ogkAF"
      }
    },
    {
      "cell_type": "code",
      "source": [],
      "metadata": {
        "id": "ZPBKoJfIg599"
      },
      "execution_count": null,
      "outputs": []
    },
    {
      "cell_type": "markdown",
      "source": [
        "#### 9. Subtract the mean of each row of a given matrix."
      ],
      "metadata": {
        "id": "tdmHI99gg8Tj"
      }
    },
    {
      "cell_type": "code",
      "source": [],
      "metadata": {
        "id": "nKphcFdmhBJL"
      },
      "execution_count": null,
      "outputs": []
    },
    {
      "cell_type": "markdown",
      "source": [
        "#### 10. Sort a random 2D integer array by the nth column."
      ],
      "metadata": {
        "id": "uButYXGjhBZm"
      }
    },
    {
      "cell_type": "code",
      "source": [],
      "metadata": {
        "id": "i-LRzTyLhNNA"
      },
      "execution_count": null,
      "outputs": []
    },
    {
      "cell_type": "markdown",
      "source": [
        "# Level 3"
      ],
      "metadata": {
        "id": "66HphP87Z_B6"
      }
    },
    {
      "cell_type": "markdown",
      "source": [
        "#### Create two 2D integer arrays, $A,B$ with uniformly random entries. Print a diagonal matrix from the dot produuct of $A,B$. Find the fastest possible way to do this."
      ],
      "metadata": {
        "id": "f__y0t9EhSX4"
      }
    },
    {
      "cell_type": "code",
      "source": [],
      "metadata": {
        "id": "fr8k_wZFiFqg"
      },
      "execution_count": null,
      "outputs": []
    },
    {
      "cell_type": "markdown",
      "source": [
        "Source: <https://github.com/rougier/numpy-100>."
      ],
      "metadata": {
        "id": "MyZBv8p0ZzWt"
      }
    }
  ]
}