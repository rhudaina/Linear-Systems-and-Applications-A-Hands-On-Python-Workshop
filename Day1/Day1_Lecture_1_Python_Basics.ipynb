{
  "nbformat": 4,
  "nbformat_minor": 0,
  "metadata": {
    "colab": {
      "provenance": []
    },
    "kernelspec": {
      "name": "python3",
      "display_name": "Python 3"
    },
    "language_info": {
      "name": "python"
    }
  },
  "cells": [
    {
      "cell_type": "markdown",
      "source": [
        "<a href=\"https://colab.research.google.com/github/rhudaina/Linear-Systems-and-Applications-A-Hands-On-Python-Workshop/blob/main/Day1/Day1_Lecture_1_Python_Basics.ipynb\" target=\"_parent\"><img src=\"https://colab.research.google.com/assets/colab-badge.svg\" alt=\"Open In Colab\"/></a>"
      ],
      "metadata": {
        "id": "KjRGuMjR-ATM"
      }
    },
    {
      "cell_type": "markdown",
      "source": [
        "# Hello, World!"
      ],
      "metadata": {
        "id": "tfomoJOADrJ9"
      }
    },
    {
      "cell_type": "code",
      "source": [
        "print(\"Hello, World!\")"
      ],
      "metadata": {
        "id": "9n0XKfh2DtYH"
      },
      "execution_count": null,
      "outputs": []
    },
    {
      "cell_type": "markdown",
      "source": [
        "Use `#` for a short, quick comment (or for debugging)"
      ],
      "metadata": {
        "id": "XqAiZWU0D9v8"
      }
    },
    {
      "cell_type": "code",
      "source": [
        "# print(\"This is a comment.\")\n",
        "print(\"This is not a comment.\")"
      ],
      "metadata": {
        "id": "PBNArKyKD1RH"
      },
      "execution_count": null,
      "outputs": []
    },
    {
      "cell_type": "markdown",
      "source": [
        "Use `'''` in `.py` scripts to describe something much more in detail or to block out an entire chunk of code"
      ],
      "metadata": {
        "id": "1ef2oc-EECOz"
      }
    },
    {
      "cell_type": "code",
      "source": [
        "'''\n",
        "print(\"We are in a comment.\")\n",
        "print (\"We are still in a comment.\")\n",
        "'''\n",
        "print(\"We are out of the comment.\")"
      ],
      "metadata": {
        "id": "Q8pUjTb9D24O"
      },
      "execution_count": null,
      "outputs": []
    },
    {
      "cell_type": "markdown",
      "source": [
        "Operations on strings work as you would logically expect:"
      ],
      "metadata": {
        "id": "ARmLjGb0IErA"
      }
    },
    {
      "cell_type": "code",
      "source": [
        "print('string1' + 'string2')"
      ],
      "metadata": {
        "id": "EidVVtQiIIAQ"
      },
      "execution_count": null,
      "outputs": []
    },
    {
      "cell_type": "markdown",
      "source": [
        "Variables in Python can contain letters (lower or upper case), numbers 0-9, and some special characters, e.g., underscore\n",
        "- variable names should start with a letter\n",
        "- be sure not to use reserved words, e.g., `print`, `if`, `for`"
      ],
      "metadata": {
        "id": "5GlknJX6Iar-"
      }
    },
    {
      "cell_type": "code",
      "source": [
        "name = \"Juan dela Cruz\"\n",
        "print(\"Hello,\", name, \"!\")"
      ],
      "metadata": {
        "id": "wt7yug1nIXk2"
      },
      "execution_count": null,
      "outputs": []
    },
    {
      "cell_type": "markdown",
      "source": [
        "# Data Types"
      ],
      "metadata": {
        "id": "qOiU0X6Q0_wK"
      }
    },
    {
      "cell_type": "code",
      "source": [
        "type('Hello World') # Strings"
      ],
      "metadata": {
        "id": "SZ9hPfqxK4t9"
      },
      "execution_count": null,
      "outputs": []
    },
    {
      "cell_type": "code",
      "source": [
        "type(2)             # Integer"
      ],
      "metadata": {
        "id": "iE-mvQas-7zT"
      },
      "execution_count": null,
      "outputs": []
    },
    {
      "cell_type": "code",
      "source": [
        "type(3.5)           # Floating point number"
      ],
      "metadata": {
        "id": "LVjTR31HKtMI"
      },
      "execution_count": null,
      "outputs": []
    },
    {
      "cell_type": "code",
      "source": [
        "type(1.5 - 2.0j)    # Complex numbers"
      ],
      "metadata": {
        "id": "BsFJ1rEVKwPW"
      },
      "execution_count": null,
      "outputs": []
    },
    {
      "cell_type": "code",
      "source": [
        "type(True)          # Boolean (True or False)"
      ],
      "metadata": {
        "id": "-MmarvGfK2NY"
      },
      "execution_count": null,
      "outputs": []
    },
    {
      "cell_type": "code",
      "source": [
        "type(None)          # None type, a special type which just means no type or 'null'"
      ],
      "metadata": {
        "id": "OOBdEj70K8Dz"
      },
      "execution_count": null,
      "outputs": []
    },
    {
      "cell_type": "markdown",
      "source": [
        "Simple output with argument specifiers (placeholders):\n",
        "- strings: `%s`\n",
        "- strings with $n$ characters: `%.ns`\n",
        "- integers: `%d`\n",
        "- floating point numbers: `%f`\n",
        "- floating point numbers with $n$ decimal places: `%.nf`"
      ],
      "metadata": {
        "id": "H8p6WQ4xUepH"
      }
    },
    {
      "cell_type": "code",
      "source": [
        "name = \"Juan dela Cruz\"\n",
        "age = 20\n",
        "print(\"%s is %d years old.\" % (name, age))"
      ],
      "metadata": {
        "id": "iQAggYPkUgKO"
      },
      "execution_count": null,
      "outputs": []
    },
    {
      "cell_type": "markdown",
      "source": [
        "Python is dynamically typed, meaning we can do:"
      ],
      "metadata": {
        "id": "gf2d4qEBEgL5"
      }
    },
    {
      "cell_type": "code",
      "source": [
        "a = 7\n",
        "b = 15.2"
      ],
      "metadata": {
        "id": "5nI2VqLhEl7v"
      },
      "execution_count": null,
      "outputs": []
    },
    {
      "cell_type": "markdown",
      "source": [
        "Python integers have unlimited precision -- there is no limit on the size of the integer, but it can be slow."
      ],
      "metadata": {
        "id": "cG7hF6Z7Euxe"
      }
    },
    {
      "cell_type": "code",
      "source": [
        "a = 4379857389751098475175089217\n",
        "b = 4738574387589234759871587109580941579496787754315\n",
        "print(a * b * b * a)"
      ],
      "metadata": {
        "id": "hxwTiIVKFN4n"
      },
      "execution_count": null,
      "outputs": []
    },
    {
      "cell_type": "markdown",
      "source": [
        "Python floats, however, have limits. For double precision (which is used by default) you get an exponent (of 2) between -1022 and +1023 (-307 to 308 base 10) and ~16 decimal places."
      ],
      "metadata": {
        "id": "2NmCIw2CFU_M"
      }
    },
    {
      "cell_type": "code",
      "source": [
        "print(11.5473895**250)\n",
        "print(11.5473895**350)"
      ],
      "metadata": {
        "id": "OspZfXJkFiRj"
      },
      "execution_count": null,
      "outputs": []
    },
    {
      "cell_type": "markdown",
      "source": [
        "# Arithmetic Operators"
      ],
      "metadata": {
        "id": "rigBww-CGVZY"
      }
    },
    {
      "cell_type": "code",
      "source": [
        "x = 134\n",
        "y = 423\n",
        "print(x + y)  # addition\n",
        "print(x - y)  # subtraction\n",
        "print(x * y)  # multiplication\n",
        "print(x / y)  # division\n",
        "print(x // y) # modular division\n",
        "print(x % y)  # modulus operator\n",
        "print(x ** y) # exponentiation"
      ],
      "metadata": {
        "id": "EoOCLkd6GWBX"
      },
      "execution_count": null,
      "outputs": []
    },
    {
      "cell_type": "markdown",
      "source": [
        "Be careful with integer division: multiplying by a float converts an integer to a float."
      ],
      "metadata": {
        "id": "GpJ8bt_hGlnM"
      }
    },
    {
      "cell_type": "code",
      "source": [
        "x = 2\n",
        "\n",
        "y = 3 * x\n",
        "print(\"y =\", y, \"has type\", type(y))\n",
        "\n",
        "z = 3.0 * x\n",
        "print(\"z =\", z, \"has type\", type(z))"
      ],
      "metadata": {
        "id": "Uy2o2CNoGlVN"
      },
      "execution_count": null,
      "outputs": []
    },
    {
      "cell_type": "markdown",
      "source": [
        "Be careful with floats: operations are not exact, just like in C/C++:"
      ],
      "metadata": {
        "id": "QZUkUf9dHTSR"
      }
    },
    {
      "cell_type": "code",
      "source": [
        "print(0.2 + 0.1 == 0.3)"
      ],
      "metadata": {
        "id": "OowTHy76HXvW"
      },
      "execution_count": null,
      "outputs": []
    },
    {
      "cell_type": "markdown",
      "source": [
        "# Comparison Operators"
      ],
      "metadata": {
        "id": "uKe__IfZH1Ab"
      }
    },
    {
      "cell_type": "code",
      "source": [
        "bool(0) # false\n",
        "bool(1) # true\n",
        "\n",
        "a = 0\n",
        "b = 1\n",
        "\n",
        "print(a < b)  # strictly less than\n",
        "print(a <= b) # less than or equal\n",
        "\n",
        "print(a > b)  # strictly greater than\n",
        "print(a >= b) # greater than or equal\n",
        "\n",
        "print(a == b) # equal\n",
        "print(a != b) # not equal"
      ],
      "metadata": {
        "id": "VRVrpIcIH2sN"
      },
      "execution_count": null,
      "outputs": []
    },
    {
      "cell_type": "markdown",
      "source": [
        "# Boolean Operators"
      ],
      "metadata": {
        "id": "zV23zZ3vH8gB"
      }
    },
    {
      "cell_type": "code",
      "source": [
        "a = 0\n",
        "b = 1\n",
        "\n",
        "print(a == 0)\n",
        "print(not a == 0)\n",
        "\n",
        "print(a == 0 and b == 1)\n",
        "print(a == 1 and b == 1)\n",
        "\n",
        "print(not a == 1 and b == 1)\n",
        "\n",
        "print(a == 1 or b == 1)\n",
        "print(a == 1 or b == 0)\n",
        "\n",
        "print(not (a == 1 and b == 0))\n",
        "print(not a == 1 and b == 0)"
      ],
      "metadata": {
        "id": "8IqHiVykH96C"
      },
      "execution_count": null,
      "outputs": []
    },
    {
      "cell_type": "markdown",
      "source": [
        "# `is` operator\n",
        "\n",
        "This is used to test object identity, i.e., whether two variables belong to the same object."
      ],
      "metadata": {
        "id": "nZ-7HBC8JQMz"
      }
    },
    {
      "cell_type": "code",
      "source": [
        "a = 5\n",
        "b = a\n",
        "print(a is b)"
      ],
      "metadata": {
        "id": "a-lLnNAHJZ2t"
      },
      "execution_count": null,
      "outputs": []
    },
    {
      "cell_type": "code",
      "source": [
        "a = 12\n",
        "print(b)"
      ],
      "metadata": {
        "id": "9kO5ZQ8rJfDP"
      },
      "execution_count": null,
      "outputs": []
    },
    {
      "cell_type": "code",
      "source": [
        "b = 324\n",
        "print(a)\n",
        "print(a is b)"
      ],
      "metadata": {
        "id": "-LQ-xtb3Jjb1"
      },
      "execution_count": null,
      "outputs": []
    },
    {
      "cell_type": "markdown",
      "source": [
        "# Getting HELP\n",
        "\n",
        "`help()` command usually tells you everything you need to know about the object."
      ],
      "metadata": {
        "id": "JSrkMbPEJrwz"
      }
    },
    {
      "cell_type": "code",
      "source": [
        "help('string')"
      ],
      "metadata": {
        "id": "OG5bu-p5KAMP"
      },
      "execution_count": null,
      "outputs": []
    },
    {
      "cell_type": "markdown",
      "source": [
        "You can also use `NAME?` to get information about the variables."
      ],
      "metadata": {
        "id": "Q7LahW-NKjG7"
      }
    },
    {
      "cell_type": "code",
      "source": [
        "a?"
      ],
      "metadata": {
        "id": "AbvcjpoeKj53"
      },
      "execution_count": null,
      "outputs": []
    },
    {
      "cell_type": "markdown",
      "source": [
        "The `dir()` function returns all properties and methods of the specified object."
      ],
      "metadata": {
        "id": "BknBFS-PKjjA"
      }
    },
    {
      "cell_type": "code",
      "source": [
        "a = \"hi\"\n",
        "dir(a)"
      ],
      "metadata": {
        "id": "VvDqTqTZK5E5"
      },
      "execution_count": null,
      "outputs": []
    },
    {
      "cell_type": "markdown",
      "source": [
        "Python often uses the syntax `variable.command` to perform a particular command on `variable`\n",
        "\n",
        "If you need to know which functions are available, you can use tab after a `.`"
      ],
      "metadata": {
        "id": "GBQcfTwGLl1x"
      }
    },
    {
      "cell_type": "code",
      "source": [
        "b = a.capitalize()\n",
        "print(a.capitalize())\n",
        "print(b)"
      ],
      "metadata": {
        "id": "USSMP-FQLnr0"
      },
      "execution_count": null,
      "outputs": []
    },
    {
      "cell_type": "code",
      "source": [
        "print(a.upper())\n",
        "print(a)"
      ],
      "metadata": {
        "id": "amQlM4_PKZiH"
      },
      "execution_count": null,
      "outputs": []
    },
    {
      "cell_type": "code",
      "source": [
        "help(a.replace)"
      ],
      "metadata": {
        "id": "aDJlajfaLxpf"
      },
      "execution_count": null,
      "outputs": []
    },
    {
      "cell_type": "code",
      "source": [
        "b = a.replace(\"i\",\"Y\")\n",
        "print(b)"
      ],
      "metadata": {
        "id": "ftdVnLkSLzcC"
      },
      "execution_count": null,
      "outputs": []
    },
    {
      "cell_type": "markdown",
      "source": [
        "# Magic"
      ],
      "metadata": {
        "id": "y6D85cxmYwHx"
      }
    },
    {
      "cell_type": "markdown",
      "source": [
        "Jupyter embeds special commands (called magics):\n",
        "\n",
        " - magic multiple line commands start with \"%%\"\n",
        " - you can list magic commands running %lsmagic\n",
        " - you can pop-up the magic command documentation (if any) adding \"?\" after the command with no space\n",
        " - few magics you might find useful:\n",
        "    - ! runs inline shell commands\n",
        "    - %%bash to run bash program\n",
        "    - %%latex to render a latex block\n",
        "    - %%timeit to time a block\n",
        "    - %timeit to time a line\n",
        "    - %whos # list of all assigned variables\n",
        "    - %run filename.py # runs the python script filename.py\n",
        "    - %reset # delete all varible and definitions"
      ],
      "metadata": {
        "id": "BEOzOdMoY1zZ"
      }
    },
    {
      "cell_type": "code",
      "source": [
        "%lsmagic"
      ],
      "metadata": {
        "id": "YZf85LIHYy4E"
      },
      "execution_count": null,
      "outputs": []
    },
    {
      "cell_type": "code",
      "source": [
        "!jupyter --version"
      ],
      "metadata": {
        "id": "AGKndJ9zZSgY"
      },
      "execution_count": null,
      "outputs": []
    },
    {
      "cell_type": "code",
      "source": [
        "%whos"
      ],
      "metadata": {
        "id": "0qwvQ9sVZViC"
      },
      "execution_count": null,
      "outputs": []
    },
    {
      "cell_type": "code",
      "source": [
        "!pwd"
      ],
      "metadata": {
        "id": "pUJRuSmiZA76"
      },
      "execution_count": null,
      "outputs": []
    },
    {
      "cell_type": "code",
      "source": [
        "a=!pwd"
      ],
      "metadata": {
        "id": "tZ61-ZrvY8_L"
      },
      "execution_count": null,
      "outputs": []
    },
    {
      "cell_type": "code",
      "source": [
        "print(a)"
      ],
      "metadata": {
        "id": "QTeQRytFY_5T"
      },
      "execution_count": null,
      "outputs": []
    },
    {
      "cell_type": "code",
      "source": [
        "%%timeit\n",
        "pow(((0.78)*12321312),0.123)"
      ],
      "metadata": {
        "id": "GvXBISsxZHFl"
      },
      "execution_count": null,
      "outputs": []
    },
    {
      "cell_type": "markdown",
      "source": [
        "# Lists\n",
        "\n",
        "Lists are mutable (can change), resizable, can store objects of different types."
      ],
      "metadata": {
        "id": "VU8kUagULw9f"
      }
    },
    {
      "cell_type": "markdown",
      "source": [
        "To create a list, one can simply do the following."
      ],
      "metadata": {
        "id": "qdumwx6CMGxB"
      }
    },
    {
      "cell_type": "code",
      "source": [
        "l = []\n",
        "print(l)"
      ],
      "metadata": {
        "id": "d-y88R2SMAQS"
      },
      "execution_count": null,
      "outputs": []
    },
    {
      "cell_type": "markdown",
      "source": [
        "Alternatively, you can do:"
      ],
      "metadata": {
        "id": "2wJkcTy4MOiv"
      }
    },
    {
      "cell_type": "code",
      "source": [
        "l = list()\n",
        "print(l)"
      ],
      "metadata": {
        "id": "W-JYoVUuMEQ4"
      },
      "execution_count": null,
      "outputs": []
    },
    {
      "cell_type": "markdown",
      "source": [
        "### append"
      ],
      "metadata": {
        "id": "hhgrXiQyRcN2"
      }
    },
    {
      "cell_type": "markdown",
      "source": [
        "`.append` can be used to append an element to the end of a list"
      ],
      "metadata": {
        "id": "zwXH9ppXMUy9"
      }
    },
    {
      "cell_type": "code",
      "source": [
        "l.append(2)\n",
        "l.append(\"hi\")\n",
        "l.append(4.9)\n",
        "l.append('a')\n",
        "l.append(100)\n",
        "print(l)"
      ],
      "metadata": {
        "id": "yZKczYEgMT6E"
      },
      "execution_count": null,
      "outputs": []
    },
    {
      "cell_type": "markdown",
      "source": [
        "In Python, elements in a list do not need to be of the same type."
      ],
      "metadata": {
        "id": "MvidBrgpOdpn"
      }
    },
    {
      "cell_type": "markdown",
      "source": [
        "### remove"
      ],
      "metadata": {
        "id": "j8pWRZ16Re4p"
      }
    },
    {
      "cell_type": "markdown",
      "source": [
        "`.remove` can be used to remove an element from a list"
      ],
      "metadata": {
        "id": "JMXbavAqNK1J"
      }
    },
    {
      "cell_type": "code",
      "source": [
        "l.remove('a')\n",
        "print(l)"
      ],
      "metadata": {
        "id": "aGJVmlsMNMoa"
      },
      "execution_count": null,
      "outputs": []
    },
    {
      "cell_type": "markdown",
      "source": [
        "You can also delete by index. Note that indexing starts at $0$."
      ],
      "metadata": {
        "id": "fUresvDPRxhj"
      }
    },
    {
      "cell_type": "code",
      "source": [
        "del l[1]\n",
        "print(l)"
      ],
      "metadata": {
        "id": "_oT0uKclR0a-"
      },
      "execution_count": null,
      "outputs": []
    },
    {
      "cell_type": "code",
      "source": [
        "l.remove(100)\n",
        "print(l)"
      ],
      "metadata": {
        "id": "eeWZjGmXR3a9"
      },
      "execution_count": null,
      "outputs": []
    },
    {
      "cell_type": "code",
      "source": [
        "el=l.pop(0)\n",
        "print(el)\n",
        "print(l)"
      ],
      "metadata": {
        "id": "-5jALfYQRibv"
      },
      "execution_count": null,
      "outputs": []
    },
    {
      "cell_type": "markdown",
      "source": [
        "### insert"
      ],
      "metadata": {
        "id": "n0MAj0Y2RgdY"
      }
    },
    {
      "cell_type": "markdown",
      "source": [
        "`.insert` can be used to insert an element at a location in a list"
      ],
      "metadata": {
        "id": "j9P_FKMsNOQ0"
      }
    },
    {
      "cell_type": "code",
      "source": [
        "l.insert(0,'z')\n",
        "print(l)"
      ],
      "metadata": {
        "id": "0gyHeAt1Nk_X"
      },
      "execution_count": null,
      "outputs": []
    },
    {
      "cell_type": "code",
      "source": [
        "l.insert(4,20)\n",
        "print(l)"
      ],
      "metadata": {
        "id": "u_tB18zYNoOs"
      },
      "execution_count": null,
      "outputs": []
    },
    {
      "cell_type": "markdown",
      "source": [
        "Be careful with using `*` if you use lists of lists"
      ],
      "metadata": {
        "id": "tBTLgnnJPk7N"
      }
    },
    {
      "cell_type": "code",
      "source": [
        "print(l)\n",
        "print(l * 3)"
      ],
      "metadata": {
        "id": "F9QoAEvIP1yP"
      },
      "execution_count": null,
      "outputs": []
    },
    {
      "cell_type": "code",
      "source": [
        "ll=[[1]*3]*3\n",
        "print(ll)"
      ],
      "metadata": {
        "id": "0mX821dpP36a"
      },
      "execution_count": null,
      "outputs": []
    },
    {
      "cell_type": "code",
      "source": [
        "ll[1][1]=412\n",
        "print(ll)"
      ],
      "metadata": {
        "id": "7E39TXZnP8tf"
      },
      "execution_count": null,
      "outputs": []
    },
    {
      "cell_type": "markdown",
      "source": [
        "## Indexing"
      ],
      "metadata": {
        "id": "EhWiePAZQBen"
      }
    },
    {
      "cell_type": "markdown",
      "source": [
        "Python indexing starts at `0`."
      ],
      "metadata": {
        "id": "uzWAjc3EMh-x"
      }
    },
    {
      "cell_type": "code",
      "source": [
        "primes = [2, 3, 5, 7, 9, 11, 13, 17]\n",
        "print(primes)"
      ],
      "metadata": {
        "id": "5enOa0DsMiwS"
      },
      "execution_count": null,
      "outputs": []
    },
    {
      "cell_type": "code",
      "source": [
        "print(primes[0])  # prints the first element\n",
        "print(primes[-1]) # prints the last element"
      ],
      "metadata": {
        "id": "VPwSFeQjTn4g"
      },
      "execution_count": null,
      "outputs": []
    },
    {
      "cell_type": "markdown",
      "source": [
        "Use syntax `listname[start:stop]` to extract elements indexed start through `stop-1`"
      ],
      "metadata": {
        "id": "-_Ku6YrZOV5S"
      }
    },
    {
      "cell_type": "code",
      "source": [
        "print(primes[2:6]) # prints elements indexed 2 through 5"
      ],
      "metadata": {
        "id": "wOGM3baRPG-G"
      },
      "execution_count": null,
      "outputs": []
    },
    {
      "cell_type": "code",
      "source": [
        "print(primes[:3]) # prints the first three elements"
      ],
      "metadata": {
        "id": "GXSf3sQmPG0O"
      },
      "execution_count": null,
      "outputs": []
    },
    {
      "cell_type": "code",
      "source": [
        "print(primes[-3:]) # prints the last three elements"
      ],
      "metadata": {
        "id": "r7a9RuAJONP4"
      },
      "execution_count": null,
      "outputs": []
    },
    {
      "cell_type": "markdown",
      "source": [
        "Use syntax `listname[start:stop:step]` to extract elements indexed start through `stop-1` with increment `step`"
      ],
      "metadata": {
        "id": "1GxSm-b2TLLH"
      }
    },
    {
      "cell_type": "code",
      "source": [
        "print(primes[2:7:2])  # print elements with step 2"
      ],
      "metadata": {
        "id": "CW8q0zmVTLyG"
      },
      "execution_count": null,
      "outputs": []
    },
    {
      "cell_type": "code",
      "source": [
        "print(primes[::3])  # prints the whole list with step 5"
      ],
      "metadata": {
        "id": "jF1Y91nRTZ69"
      },
      "execution_count": null,
      "outputs": []
    },
    {
      "cell_type": "code",
      "source": [
        "print(primes[::-1])     # prints the list in reverse"
      ],
      "metadata": {
        "id": "Qe-xujfDTf8G"
      },
      "execution_count": null,
      "outputs": []
    },
    {
      "cell_type": "markdown",
      "source": [
        "Use `len` command to get the length"
      ],
      "metadata": {
        "id": "pu-tS5igPUyU"
      }
    },
    {
      "cell_type": "code",
      "source": [
        "len(primes)"
      ],
      "metadata": {
        "id": "gG9mIqlkPWX2"
      },
      "execution_count": null,
      "outputs": []
    },
    {
      "cell_type": "markdown",
      "source": [
        "## Range and Lists"
      ],
      "metadata": {
        "id": "wxLKIePHOhwV"
      }
    },
    {
      "cell_type": "markdown",
      "source": [
        "`range(n)` returns a sequence of $n$ numbers starting from $0$ to $n-1$"
      ],
      "metadata": {
        "id": "yzG1ltBfOp9w"
      }
    },
    {
      "cell_type": "code",
      "source": [
        "print(range(5))\n",
        "print(list(range(5)))"
      ],
      "metadata": {
        "id": "3S8XUpjLOuGA"
      },
      "execution_count": null,
      "outputs": []
    },
    {
      "cell_type": "markdown",
      "source": [
        "`range(start,stop,step)` produces a sequence of numbers with a specified number of elements"
      ],
      "metadata": {
        "id": "DidUpsK1O1Cb"
      }
    },
    {
      "cell_type": "code",
      "source": [
        "print(list(range(4,15)))"
      ],
      "metadata": {
        "id": "h_uts9e0PBcW"
      },
      "execution_count": null,
      "outputs": []
    },
    {
      "cell_type": "code",
      "source": [
        "print(list(range(4,15,2)))"
      ],
      "metadata": {
        "id": "TnsLo-YDPBRK"
      },
      "execution_count": null,
      "outputs": []
    },
    {
      "cell_type": "code",
      "source": [
        "print(list(range(15,4,-1)))"
      ],
      "metadata": {
        "id": "LGXiGJpKO33B"
      },
      "execution_count": null,
      "outputs": []
    },
    {
      "cell_type": "markdown",
      "source": [
        "`in` operator is used to check if a specified object exists within an iterable object container, such as a list:"
      ],
      "metadata": {
        "id": "s2zmZBZcO4N5"
      }
    },
    {
      "cell_type": "code",
      "source": [
        "primes = [2, 3, 5, 7, 9]\n",
        "print(5 in primes)\n",
        "print(3 in range(5))"
      ],
      "metadata": {
        "id": "tWdn3zlvPOML"
      },
      "execution_count": null,
      "outputs": []
    },
    {
      "cell_type": "markdown",
      "source": [
        "## List Comprehensions\n",
        "\n",
        "You can create a new list by using **list comprehensions**. This way allows you creating a list from a rule rather than listing the objects directly.\n",
        "\n",
        "The format is the following:\n",
        "\n",
        "`[`'object to go in list' `for` 'input' `in` 'list/generator' `if` 'condition'  `]`\n",
        "\n",
        "Here are some examples to show you what is looks like:"
      ],
      "metadata": {
        "id": "F6KyXjLfMZRb"
      }
    },
    {
      "cell_type": "code",
      "source": [
        "print( [x**2 for x in {7,2,1,3,4,5,6}]                      ) # Squares\n",
        "print( [x for x in range(10) if x%2==0]                     ) # Evens\n",
        "print( [x if not x%2 else -x for x in range(10)]            ) # Alternate sign for evens and odds\n",
        "print( [x**3 for x in [1,2,3,4]]                            ) # Cubes from a list\n",
        "print( [(x,y) for x in range(5) for y in range(5) if x+y<4] ) # Create pairs with sum<4\n",
        "print( [x**2 for x in [x**2 for x in range(10)]]            ) # 4th power (don't do this...)"
      ],
      "metadata": {
        "id": "_CkP7COUQRgw"
      },
      "execution_count": null,
      "outputs": []
    },
    {
      "cell_type": "markdown",
      "source": [
        "Now we can list the types of our variables easier:"
      ],
      "metadata": {
        "id": "ALW_DxLeQYKk"
      }
    },
    {
      "cell_type": "code",
      "source": [
        "list_of_things = [1, 3.0, 'hi', True, 2 - 1j]"
      ],
      "metadata": {
        "id": "pk6MtNYCQYuJ"
      },
      "execution_count": null,
      "outputs": []
    },
    {
      "cell_type": "code",
      "source": [
        "ls = [type(item) for item in list_of_things]\n",
        "print(ls)"
      ],
      "metadata": {
        "id": "qIW1IJ5nQaUb"
      },
      "execution_count": null,
      "outputs": []
    },
    {
      "cell_type": "markdown",
      "source": [
        "You can sort the lists as follows."
      ],
      "metadata": {
        "id": "vFSjnfoHQze3"
      }
    },
    {
      "cell_type": "code",
      "source": [
        "l = [2, 3, 99, -9]\n",
        "l.sort()\n",
        "print(l)"
      ],
      "metadata": {
        "id": "qulWdsqVQ5TT"
      },
      "execution_count": null,
      "outputs": []
    },
    {
      "cell_type": "code",
      "source": [
        "m = [4, -9, 0, 212]\n",
        "print(\"sorted m:\", sorted(m))\n",
        "print(m)"
      ],
      "metadata": {
        "id": "oljNtQWeREgC"
      },
      "execution_count": null,
      "outputs": []
    },
    {
      "cell_type": "markdown",
      "source": [
        "# Tuples"
      ],
      "metadata": {
        "id": "bSGaBxiqSqT9"
      }
    },
    {
      "cell_type": "markdown",
      "source": [
        "A tuple is a data type for immutable ordered sequence of elements, i.e., you cannot change it once created (but it is faster than lists because of that)."
      ],
      "metadata": {
        "id": "9SfjZFRkStZP"
      }
    },
    {
      "cell_type": "code",
      "source": [
        "t = ()                # or t = tuple(), this is empty tuple\n",
        "t = tuple(range(10))  #create tuple from a list\n",
        "print(t[4::2])        #can use indexing and slicing\n",
        "t = tuple(\"string\")   #can create from the string\n",
        "print(t)"
      ],
      "metadata": {
        "id": "n_oAdbWlSrb1"
      },
      "execution_count": null,
      "outputs": []
    },
    {
      "cell_type": "markdown",
      "source": [
        "To reiterate, we can not change tuples."
      ],
      "metadata": {
        "id": "-mp2RSj8TutQ"
      }
    },
    {
      "cell_type": "code",
      "source": [
        "t[0] = 5 #an error"
      ],
      "metadata": {
        "id": "8qlolDbvTuPA"
      },
      "execution_count": null,
      "outputs": []
    },
    {
      "cell_type": "markdown",
      "source": [
        "We can, however, \"pack\" tuples."
      ],
      "metadata": {
        "id": "R54O28LvT2Gc"
      }
    },
    {
      "cell_type": "code",
      "source": [
        "a = \"meow\"\n",
        "b = \"quack\"\n",
        "c = 77\n",
        "t = a, b,c\n",
        "print(t)\n",
        "print(type(t))"
      ],
      "metadata": {
        "id": "IuhYPsjBT1nS"
      },
      "execution_count": null,
      "outputs": []
    },
    {
      "cell_type": "markdown",
      "source": [
        "We can also \"unpack\" tuples."
      ],
      "metadata": {
        "id": "7MUNvut4T9nX"
      }
    },
    {
      "cell_type": "code",
      "source": [
        "a,b,c = t\n",
        "print(a,b,c)\n",
        "\n",
        "v,_,z = t     # allows to ignore elements\n",
        "print(v,z)\n",
        "\n",
        "e,*g=t        # how to get the \"rest\"\n",
        "print(e,g)\n",
        "print(type(g))"
      ],
      "metadata": {
        "id": "wdRKxShIUAFH"
      },
      "execution_count": null,
      "outputs": []
    },
    {
      "cell_type": "markdown",
      "source": [
        "We can swap like this."
      ],
      "metadata": {
        "id": "mwFtgDzqURYi"
      }
    },
    {
      "cell_type": "code",
      "source": [
        "a = 1\n",
        "b = 2\n",
        "print(a, b)\n",
        "a, b = b, a\n",
        "print(a, b)"
      ],
      "metadata": {
        "id": "nLL1ZNZXUQ0-"
      },
      "execution_count": null,
      "outputs": []
    },
    {
      "cell_type": "code",
      "source": [
        "%timeit l = [0, 1, 2, 3, 4, 5, 6, 7, 8, 9]\n",
        "%timeit t = (0, 1, 2, 3, 4, 5, 6, 7, 8, 9)"
      ],
      "metadata": {
        "id": "MXmUjEIkZeRG"
      },
      "execution_count": null,
      "outputs": []
    },
    {
      "cell_type": "markdown",
      "source": [
        "# Standard Library\n",
        "\n",
        "[Documentation of the whole library](https://docs.python.org/3/library/)\n"
      ],
      "metadata": {
        "id": "AwxTREepVExW"
      }
    },
    {
      "cell_type": "markdown",
      "source": [
        "## math\n",
        "\n",
        "[Documentation of the `math` module.](https://docs.python.org/3/library/math.html)"
      ],
      "metadata": {
        "id": "jFSD8HNpWFX8"
      }
    },
    {
      "cell_type": "code",
      "execution_count": null,
      "metadata": {
        "id": "pkncXgdXU8Kh"
      },
      "outputs": [],
      "source": [
        "import math"
      ]
    },
    {
      "cell_type": "code",
      "execution_count": null,
      "metadata": {
        "id": "fjFRjWFnU8Ki"
      },
      "outputs": [],
      "source": [
        "math.sin(math.pi/2)"
      ]
    },
    {
      "cell_type": "code",
      "execution_count": null,
      "metadata": {
        "id": "qOsS8oeoU8Ki"
      },
      "outputs": [],
      "source": [
        "math.sqrt(2)"
      ]
    },
    {
      "cell_type": "markdown",
      "source": [
        "## itertools\n",
        "\n",
        "[Documentation of `itertools`](https://docs.python.org/3/library/itertools.html?highlight=itertools#module-itertools)"
      ],
      "metadata": {
        "id": "pQIGC1iIVl82"
      }
    },
    {
      "cell_type": "code",
      "execution_count": null,
      "metadata": {
        "id": "_wAyEurCU8Ki"
      },
      "outputs": [],
      "source": [
        "import itertools as it"
      ]
    },
    {
      "cell_type": "code",
      "execution_count": null,
      "metadata": {
        "id": "6p3VT2sSU8Kj"
      },
      "outputs": [],
      "source": [
        "permut = it.permutations([1,2,3])\n",
        "print(*permut)"
      ]
    },
    {
      "cell_type": "code",
      "execution_count": null,
      "metadata": {
        "id": "r1DQMVNVU8Kj"
      },
      "outputs": [],
      "source": [
        "type(permut)"
      ]
    },
    {
      "cell_type": "code",
      "execution_count": null,
      "metadata": {
        "id": "YAoaV7l5U8Kj"
      },
      "outputs": [],
      "source": [
        "comb = it.combinations([1,2,3,4,5],3)\n",
        "print(*comb)"
      ]
    },
    {
      "cell_type": "markdown",
      "source": [
        "## NumPy\n",
        "\n",
        "NumPy is the fundamental package for scientific computing in Python. It is a Python library that provides a multidimensional array object, various derived objects (such as masked arrays and matrices), and an assortment of routines for fast operations on arrays, including mathematical, logical, shape manipulation, sorting, selecting, I/O, discrete Fourier transforms, basic linear algebra, basic statistical operations, random simulation and much more.\n",
        "\n",
        "[For documentation, click this.](https://numpy.org/doc/stable/user/whatisnumpy.html)\n",
        "\n",
        "\n",
        "Numpy is mostly used for manipulations on arrays. It's usually imported as `np`."
      ],
      "metadata": {
        "id": "AXrJT_DSWDHj"
      }
    },
    {
      "cell_type": "code",
      "execution_count": null,
      "metadata": {
        "id": "xH-76R_kU8Kj"
      },
      "outputs": [],
      "source": [
        "import numpy as np"
      ]
    },
    {
      "cell_type": "code",
      "source": [
        "print(np.__version__)\n",
        "np.show_config()"
      ],
      "metadata": {
        "id": "8QTe-a7JaaHD"
      },
      "execution_count": null,
      "outputs": []
    },
    {
      "cell_type": "markdown",
      "metadata": {
        "id": "eiwNAlyXU8Kk"
      },
      "source": [
        "Let's start with the different ways of arrays creations.\n",
        "\n",
        "`np.array` command builds an array of floating point numbers\n",
        "- memory usage is more efficient\n"
      ]
    },
    {
      "cell_type": "code",
      "execution_count": null,
      "metadata": {
        "id": "Nx7vgN4UU8Kk"
      },
      "outputs": [],
      "source": [
        "arr1 = np.array([1,2,3,4,5], dtype=np.int32)    # From a list (works with list comprehensions too)\n",
        "print(arr1)\n",
        "print(type(arr1))\n",
        "print(type(arr1[0]))"
      ]
    },
    {
      "cell_type": "code",
      "execution_count": null,
      "metadata": {
        "id": "mssEqYy2U8Kk"
      },
      "outputs": [],
      "source": [
        "arr2 = np.array([[1,2],[3,4]])\n",
        "print(arr2)"
      ]
    },
    {
      "cell_type": "markdown",
      "source": [
        "There are built-in functions that can act directly on the numpy array as a matrix or a vector.\n"
      ],
      "metadata": {
        "id": "zV5bK_R26GIx"
      }
    },
    {
      "cell_type": "code",
      "source": [
        "print(arr1)\n",
        "print(\"shape:\", arr1.shape)\n",
        "print(\"size:\", arr1.size)"
      ],
      "metadata": {
        "id": "w-OY8_I-6Kth"
      },
      "execution_count": null,
      "outputs": []
    },
    {
      "cell_type": "code",
      "source": [
        "print(arr2)\n",
        "print(\"shape:\", arr2.shape)\n",
        "print(\"size:\", arr2.size)"
      ],
      "metadata": {
        "id": "ni_Fa_XX6S1h"
      },
      "execution_count": null,
      "outputs": []
    },
    {
      "cell_type": "markdown",
      "metadata": {
        "id": "ZAsymiOQU8Kk"
      },
      "source": [
        "You can create an array with zeros, ones, or leave it uninitialized"
      ]
    },
    {
      "cell_type": "code",
      "execution_count": null,
      "metadata": {
        "id": "zODqm3DWU8Kk"
      },
      "outputs": [],
      "source": [
        "arr3 = np.zeros((3,4), dtype='int')\n",
        "arr4 = np.ones((3,4), dtype='float')\n",
        "arr5 = np.empty(10)\n",
        "print(arr3)\n",
        "print(arr4)\n",
        "print(arr5)"
      ]
    },
    {
      "cell_type": "code",
      "execution_count": null,
      "metadata": {
        "id": "sjV3w9PsU8Kk"
      },
      "outputs": [],
      "source": [
        "arr6 = np.full((3,5), 7.77)       # fill in the array with 1 number\n",
        "arr7 = np.arange(1,100,17)        # just like \"range\"\n",
        "arr8 = np.linspace(0,1,27)        # 27 values linearly spaced from 0 to 1\n",
        "arr9 = np.eye(3)                  #identity\n",
        "print(arr6)\n",
        "print(arr7)\n",
        "print(arr8)\n",
        "print(arr9)"
      ]
    },
    {
      "cell_type": "code",
      "execution_count": null,
      "metadata": {
        "id": "al5gBV_YU8Kl"
      },
      "outputs": [],
      "source": [
        "arr10=np.ones_like(arr6)\n",
        "print(arr10)"
      ]
    },
    {
      "cell_type": "markdown",
      "source": [
        "In Python, the default notion of multiplication is NOT matrix multiplication, but element-wise multiplication."
      ],
      "metadata": {
        "id": "J7xH5Zlc6gO4"
      }
    },
    {
      "cell_type": "code",
      "source": [
        "A = np.array([[1,2],[3,4]])\n",
        "print(\"A =\\n\", A)\n",
        "print(A * A)              # element-wise multiplication"
      ],
      "metadata": {
        "id": "9revLtCg6wkz"
      },
      "execution_count": null,
      "outputs": []
    },
    {
      "cell_type": "code",
      "source": [
        "w = np.array([[5],[6]])\n",
        "print(\"w =\\n\", w)\n",
        "print(A * w)              # element-wise multiplication on each column"
      ],
      "metadata": {
        "id": "SZD4J5-U6jhw"
      },
      "execution_count": null,
      "outputs": []
    },
    {
      "cell_type": "markdown",
      "source": [
        "Recasting numpy arrays as matrices allows matrix multiplication"
      ],
      "metadata": {
        "id": "zfIWC0-P61v-"
      }
    },
    {
      "cell_type": "code",
      "source": [
        "# A = np.matrix([[1,2],[3,4]])\n",
        "A = np.matrix('1 2; 3 4')\n",
        "print(type(A))\n",
        "print(A * A)"
      ],
      "metadata": {
        "id": "ZiQ5gL_561Wu"
      },
      "execution_count": null,
      "outputs": []
    },
    {
      "cell_type": "code",
      "source": [
        "# w = np.matrix([[5],[6]])\n",
        "w = np.matrix('5; 6')\n",
        "print(A * w)"
      ],
      "metadata": {
        "id": "HbHlDYqp7Ke2"
      },
      "execution_count": null,
      "outputs": []
    },
    {
      "cell_type": "markdown",
      "metadata": {
        "id": "uCRKrIPVU8Kl"
      },
      "source": [
        "You can also create random arrays:"
      ]
    },
    {
      "cell_type": "code",
      "execution_count": null,
      "metadata": {
        "id": "kBGJ6Db4U8Kl"
      },
      "outputs": [],
      "source": [
        "arr11 = np.random.random((3,5))    # 3x5 Random numbers matrix with entries between 0-1\n",
        "arr12 = np.random.normal(0,5,(3,4))  # 3x4 Random numbers normal distributed with mean 0 and standard dev 5\n",
        "print(arr11)\n",
        "print(arr12)"
      ]
    },
    {
      "cell_type": "markdown",
      "source": [
        "`arange(start, stop, step)` builds an array of floating point numbers from start (default: 0) up to, but not including, stop with increment step (default: 1)"
      ],
      "metadata": {
        "id": "m4IWqbbN8E5i"
      }
    },
    {
      "cell_type": "code",
      "source": [
        "x = np.arange(0,5,0.5)\n",
        "print(x)"
      ],
      "metadata": {
        "id": "luBl2Wmv8FPA"
      },
      "execution_count": null,
      "outputs": []
    },
    {
      "cell_type": "markdown",
      "source": [
        "`linspace(start, stop, number of points)` builds an array of floating point numbers with exactly the number of points specified from start to stop with equal spacing in between"
      ],
      "metadata": {
        "id": "KDNOu4007yC1"
      }
    },
    {
      "cell_type": "code",
      "source": [
        "A = np.linspace(1,10,10)\n",
        "print(A)"
      ],
      "metadata": {
        "id": "ZUYSe1Rf7z44"
      },
      "execution_count": null,
      "outputs": []
    },
    {
      "cell_type": "markdown",
      "metadata": {
        "id": "D6YKaoaXU8Km"
      },
      "source": [
        "### Element-wise calculations\n"
      ]
    },
    {
      "cell_type": "code",
      "execution_count": null,
      "metadata": {
        "id": "0hLjC6ttU8Km"
      },
      "outputs": [],
      "source": [
        "B = np.linspace(1,10,10) # Note: It will complain if sizes do not match\n",
        "print(A+B)\n",
        "print(A-B)\n",
        "print(A*B)\n",
        "print(A/B)\n",
        "print(A//B)\n",
        "print(A**B)\n",
        "print(A%B)"
      ]
    },
    {
      "cell_type": "code",
      "execution_count": null,
      "metadata": {
        "id": "dQECTRmKU8Km"
      },
      "outputs": [],
      "source": [
        "arr=np.linspace(0.1,1,10)\n",
        "print(abs(arr))\n",
        "print(np.cos(arr))\n",
        "print(np.arccos(arr))\n",
        "print(np.exp(arr))\n",
        "print(np.log(abs(arr)))\n",
        "print(np.reciprocal(arr))"
      ]
    },
    {
      "cell_type": "markdown",
      "metadata": {
        "id": "K_pox0VNU8Km"
      },
      "source": [
        "### Joining, splitting, shaping"
      ]
    },
    {
      "cell_type": "markdown",
      "source": [
        "For joining arrays, you can use `concatenate`"
      ],
      "metadata": {
        "id": "wHYMy4UIXOnE"
      }
    },
    {
      "cell_type": "code",
      "execution_count": null,
      "metadata": {
        "id": "ZYplwbBvU8Km"
      },
      "outputs": [],
      "source": [
        "arr1 = np.array([1,2,3,4])\n",
        "arr2 = np.array([5,6,7,8])\n",
        "print(np.concatenate([arr1,arr2]))"
      ]
    },
    {
      "cell_type": "markdown",
      "source": [
        "You can reshape the arrays. Just take note that it will complain if dimensions do not allow for that."
      ],
      "metadata": {
        "id": "ZkN6zVEMXT1E"
      }
    },
    {
      "cell_type": "code",
      "execution_count": null,
      "metadata": {
        "id": "ZGt3E8fkU8Km"
      },
      "outputs": [],
      "source": [
        "A = arr1.reshape(2,2)\n",
        "B = arr2.reshape(2,2)\n",
        "print(np.concatenate([A,B]))\n",
        "print(np.concatenate([A,B],axis=1))"
      ]
    },
    {
      "cell_type": "markdown",
      "source": [
        "You can \"stack\" arrays horizontally or vertically"
      ],
      "metadata": {
        "id": "JTR_PxzzXZxL"
      }
    },
    {
      "cell_type": "code",
      "execution_count": null,
      "metadata": {
        "id": "cjj5wXOzU8Kn"
      },
      "outputs": [],
      "source": [
        "vect1 = np.array([1,2,3])\n",
        "vect2 = np.array([[4,5,6],[7,8,9]])\n",
        "print(vect1,np.shape(vect1))\n",
        "print(vect2,np.shape(vect2))\n",
        "print(np.vstack([vect1,vect2]))\n",
        "print(np.hstack([vect1.reshape(3,1),vect2.T]))"
      ]
    },
    {
      "cell_type": "markdown",
      "source": [
        "You can split arrays."
      ],
      "metadata": {
        "id": "HitMN6o-XdZb"
      }
    },
    {
      "cell_type": "code",
      "execution_count": null,
      "metadata": {
        "id": "LxfhYfL0U8Kn"
      },
      "outputs": [],
      "source": [
        "A = np.arange(20).reshape(4,5)\n",
        "print(A)\n",
        "\n",
        "B,C = np.split(A,2)\n",
        "print(\"B=\",B)\n",
        "print(\"C=\",C)\n",
        "\n",
        "B,C = np.split(A,[3],axis=1)\n",
        "print(B)\n",
        "print(C)"
      ]
    },
    {
      "cell_type": "markdown",
      "metadata": {
        "id": "41yaW1YWU8Kn"
      },
      "source": [
        "### Element access"
      ]
    },
    {
      "cell_type": "code",
      "execution_count": null,
      "metadata": {
        "id": "HZapZ4UOU8Kn"
      },
      "outputs": [],
      "source": [
        "A = np.array([range(i,i+5) for i in [1,6,11,16,21]])\n",
        "print(A,'\\n')\n",
        "\n",
        "print(A[1,1],A[1,3],A[-1,-1],A[-1,2])  # Accessing individual elements, negative counts from the end\n",
        "A[2,2] = 777    # Changing elements\n",
        "print(A,'\\n')\n",
        "A[2,2] = 1.234   # Attention! numpy won't change array type, it will change your input\n",
        "print(A,'\\n')"
      ]
    },
    {
      "cell_type": "markdown",
      "metadata": {
        "id": "Mhd8gX4YU8Ko"
      },
      "source": [
        "You can have the same syntax as with range before (this takes time to get used to...):"
      ]
    },
    {
      "cell_type": "code",
      "execution_count": null,
      "metadata": {
        "id": "dAffyWSyU8Ko"
      },
      "outputs": [],
      "source": [
        "print(A[1:4,1:4],'\\n')  # central sub array\n",
        "print(A[:3,2:],'\\n')    # top right sub array\n",
        "print(A[:,0:5:2],'\\n')  # only even columns\n",
        "print(A[::-1,:],'\\n')   # reverse the rows"
      ]
    },
    {
      "cell_type": "markdown",
      "metadata": {
        "id": "Am1QW_FXU8Ko"
      },
      "source": [
        "**Surprise!** If you assign this to something, this acts like a \"reference\" instead of copy"
      ]
    },
    {
      "cell_type": "code",
      "execution_count": null,
      "metadata": {
        "id": "-dpQtkecU8Ko"
      },
      "outputs": [],
      "source": [
        "B=A[1:4,1:4]\n",
        "B[2,2]=999\n",
        "print(B)\n",
        "print(A)"
      ]
    },
    {
      "cell_type": "markdown",
      "metadata": {
        "id": "O8oVEMrRU8Ko"
      },
      "source": [
        "You need to call the `copy()` to actually copy:"
      ]
    },
    {
      "cell_type": "code",
      "execution_count": null,
      "metadata": {
        "id": "oK6srpGRU8Ky"
      },
      "outputs": [],
      "source": [
        "B=A[1:4,1:4].copy()\n",
        "B[2,2]=888\n",
        "print(B)\n",
        "print(A)"
      ]
    },
    {
      "cell_type": "markdown",
      "metadata": {
        "id": "far6gGfpU8Ky"
      },
      "source": [
        "#### Linear Algebra Tools"
      ]
    },
    {
      "cell_type": "code",
      "execution_count": null,
      "metadata": {
        "id": "UTZHXG_iU8Ky"
      },
      "outputs": [],
      "source": [
        "A = np.array([[1,77,3],[4,5,6],[7,8,9]])\n",
        "B = np.linspace(5,30,6).reshape(3,2)\n",
        "print('A:',A)\n",
        "print('B:',B)\n",
        "print('dot product\\n',np.dot(A,B))\n",
        "print('Matrix product\\n',np.matmul(A,B)) #different from dot for dimensions>2\n",
        "print('Inner product\\n',np.inner(A,A))\n",
        "print('Outer product\\n',np.outer(A,B))\n",
        "print('Trace\\n',np.trace(A))\n",
        "print('Transpose\\n',A.T)\n",
        "print('Matrix Power\\n',np.linalg.matrix_power(A,2))\n",
        "print('Inverse\\n',np.linalg.inv(A))\n",
        "print('Determinant\\n',np.linalg.det(A))"
      ]
    },
    {
      "cell_type": "code",
      "execution_count": null,
      "metadata": {
        "id": "Qv928xsfU8Ky"
      },
      "outputs": [],
      "source": [
        "help(np.inner)"
      ]
    },
    {
      "cell_type": "markdown",
      "metadata": {
        "id": "aaR_0FGNU8Kz"
      },
      "source": [
        "### Statistics"
      ]
    },
    {
      "cell_type": "code",
      "execution_count": null,
      "metadata": {
        "id": "FH3Ik403U8Kz"
      },
      "outputs": [],
      "source": [
        "A = np.linspace(0,1,9)\n",
        "print('A:',A)\n",
        "print('sum:               ',np.sum(A))\n",
        "print('product:           ',np.prod(A))\n",
        "print('mean:              ',np.mean(A))\n",
        "print('standard deviation:',np.std(A))\n",
        "print('variance:          ',np.var(A))\n",
        "print('minimum:           ',np.min(A))\n",
        "print('maximum:           ',np.max(A))\n",
        "print('median:            ',np.median(A))\n",
        "print('index of min:      ',np.argmin(A))\n",
        "print('index of max:      ',np.argmax(A))"
      ]
    },
    {
      "cell_type": "markdown",
      "metadata": {
        "id": "CgIIVR7fU8Kz"
      },
      "source": [
        "**\"Surprise\" on argmin/argmax:**"
      ]
    },
    {
      "cell_type": "code",
      "execution_count": null,
      "metadata": {
        "id": "EDGpBOSLU8Kz"
      },
      "outputs": [],
      "source": [
        "A=np.linspace(0,10,9).reshape(3,3)\n",
        "print(np.argmax(A))"
      ]
    },
    {
      "cell_type": "code",
      "execution_count": null,
      "metadata": {
        "id": "UrLAmbpXU8Kz"
      },
      "outputs": [],
      "source": [
        "print(np.unravel_index(np.argmax(A), A.shape))"
      ]
    },
    {
      "cell_type": "markdown",
      "metadata": {
        "id": "Ts0aoEK_U8Kz"
      },
      "source": [
        "#### **More traps:**"
      ]
    },
    {
      "cell_type": "markdown",
      "metadata": {
        "id": "eZHdTeOdU8Kz"
      },
      "source": [
        "Sometimes you have to think like a c/c++ programmer:\n",
        "\n",
        "**overflow is possible with numpy arrays**"
      ]
    },
    {
      "cell_type": "code",
      "execution_count": null,
      "metadata": {
        "id": "kYwcXER2U8Kz"
      },
      "outputs": [],
      "source": [
        "arr13 = 12345678987654321*np.ones((1), dtype='int8')\n",
        "arr14 = np.array([12345678987654321], dtype='int8')\n",
        "print(arr13)\n",
        "print(arr14)"
      ]
    },
    {
      "cell_type": "markdown",
      "metadata": {
        "id": "cH0-kjUCU8K0"
      },
      "source": [
        "If you deal with too much data/big arrays, it's a good idea to \"delete\" them after usage, so that they wouldn't take up memory space. Python garbage collector will take care of them then (though not instantly). You can just do:"
      ]
    },
    {
      "cell_type": "code",
      "execution_count": null,
      "metadata": {
        "id": "Uk6bNmWgU8K0"
      },
      "outputs": [],
      "source": [
        "arr1=None\n",
        "print(arr1)"
      ]
    },
    {
      "cell_type": "markdown",
      "metadata": {
        "id": "Aw8IU9OgU8K0"
      },
      "source": [
        "Help becomes too complicated with too many functions. You can use:"
      ]
    },
    {
      "cell_type": "code",
      "execution_count": null,
      "metadata": {
        "id": "J27zBj83U8K0"
      },
      "outputs": [],
      "source": [
        "np.lookfor(\"exponent\")"
      ]
    },
    {
      "cell_type": "markdown",
      "metadata": {
        "id": "DfqGGGjLU8K0"
      },
      "source": [
        "Why use numpy arrays over lists?"
      ]
    },
    {
      "cell_type": "code",
      "execution_count": null,
      "metadata": {
        "id": "vv4dBJ2dU8K0"
      },
      "outputs": [],
      "source": [
        "A=np.array(range(0,900)).reshape(30,30)\n",
        "B=np.array(range(34,934)).reshape(30,30)"
      ]
    },
    {
      "cell_type": "code",
      "execution_count": null,
      "metadata": {
        "id": "WkabjopSU8K1"
      },
      "outputs": [],
      "source": [
        "%%timeit\n",
        "np.matmul(A,B)"
      ]
    },
    {
      "cell_type": "code",
      "execution_count": null,
      "metadata": {
        "id": "D80vlTuNU8K1"
      },
      "outputs": [],
      "source": [
        "A=[[x for x in range(30)] for i in range(30)]\n",
        "B=[[x+34 for x in range(30)] for i in range(30)]"
      ]
    },
    {
      "cell_type": "code",
      "execution_count": null,
      "metadata": {
        "id": "VHJh4vOYU8K1"
      },
      "outputs": [],
      "source": [
        "%%timeit\n",
        "np.matmul(A,B)"
      ]
    },
    {
      "cell_type": "markdown",
      "metadata": {
        "id": "F2EPLWq7U8K1"
      },
      "source": [
        "### Is NumPy fast?\n",
        "\n",
        "Yes, when you know what you are doing.\n",
        "\n",
        "Unfortunately, it's very easy to write bad code in python, much easier than in C/C++\n"
      ]
    },
    {
      "cell_type": "markdown",
      "source": [
        "# References\n",
        "\n",
        "1.   [Python Software Foundation](https://docs.python.org/3/tutorial/)\n",
        "2. [Google Colaboratory](https://colab.research.google.com/)\n",
        "3.   [Krishna et al. (2022) Introduction to Data Science with Python](https://nustat.github.io/DataScience_Intro_python/Introduction%20to%20Python%20and%20Jupyter%20Notebooks.html)\n",
        "3. [Serafina Di Gioia (2024), Python 101, SMR 3935](https://indico.ictp.it/event/10473)\n",
        "\n"
      ],
      "metadata": {
        "id": "pBsc-0E1Ar6K"
      }
    }
  ]
}