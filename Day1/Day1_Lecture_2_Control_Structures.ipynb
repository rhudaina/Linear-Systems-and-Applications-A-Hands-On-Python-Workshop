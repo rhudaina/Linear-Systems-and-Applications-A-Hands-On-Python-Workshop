{
  "nbformat": 4,
  "nbformat_minor": 0,
  "metadata": {
    "colab": {
      "provenance": []
    },
    "kernelspec": {
      "name": "python3",
      "display_name": "Python 3"
    },
    "language_info": {
      "name": "python"
    }
  },
  "cells": [
    {
      "cell_type": "markdown",
      "source": [
        "<a href=\"https://colab.research.google.com/github/rhudaina/Linear-Systems-and-Applications-A-Hands-On-Python-Workshop/blob/main/Day1/Day1_Lecture_2_Control_Structures.ipynb\" target=\"_parent\"><img src=\"https://colab.research.google.com/assets/colab-badge.svg\" alt=\"Open In Colab\"/></a>"
      ],
      "metadata": {
        "id": "5RNGj9vUZwXe"
      }
    },
    {
      "cell_type": "code",
      "source": [
        "import numpy as np"
      ],
      "metadata": {
        "id": "Up9quLdKe4NS"
      },
      "execution_count": null,
      "outputs": []
    },
    {
      "cell_type": "markdown",
      "source": [
        "# Control Structures"
      ],
      "metadata": {
        "id": "tfomoJOADrJ9"
      }
    },
    {
      "cell_type": "markdown",
      "metadata": {
        "id": "TVMdYMRZMCvK"
      },
      "source": [
        "## Selection\n",
        "\n"
      ]
    },
    {
      "cell_type": "markdown",
      "metadata": {
        "id": "Beur7rQ-MCvL"
      },
      "source": [
        "Conditions can be `==`, `!=`, `<`, `>`, `<=`, `>=`, `and`, `not`, `or`. You can use multiple and you can chain comparisons (like when writing on paper):"
      ]
    },
    {
      "cell_type": "markdown",
      "source": [
        "### Single-alternative decision"
      ],
      "metadata": {
        "id": "HkPbksyPeXjs"
      }
    },
    {
      "cell_type": "code",
      "execution_count": null,
      "metadata": {
        "id": "9o_jn2czMCvL"
      },
      "outputs": [],
      "source": [
        "x = 7\n",
        "if 5 <= x and x < 9:\n",
        "  print(x, \"is in the interval [5,9)\")"
      ]
    },
    {
      "cell_type": "code",
      "source": [
        "if 5 <= x < 9:\n",
        "  print(x, \"is in the interval [5,9)\")"
      ],
      "metadata": {
        "id": "kkj7qieNeXIh"
      },
      "execution_count": null,
      "outputs": []
    },
    {
      "cell_type": "markdown",
      "source": [
        "You can do nested `if`s"
      ],
      "metadata": {
        "id": "Lv16mIrhec7H"
      }
    },
    {
      "cell_type": "code",
      "source": [
        "x = 34\n",
        "if x > 0:\n",
        "  if x < 7:\n",
        "    print(x, 'is between 0 and 7')"
      ],
      "metadata": {
        "id": "FEr2tPTTefWe"
      },
      "execution_count": null,
      "outputs": []
    },
    {
      "cell_type": "markdown",
      "source": [
        "### Double-alternative decision"
      ],
      "metadata": {
        "id": "UYYx88OXeZ6h"
      }
    },
    {
      "cell_type": "code",
      "source": [
        "x = 43\n",
        "\n",
        "if x % 2 == 0:\n",
        "  print(x, \"is even\")\n",
        "else:\n",
        "  print(x, \"is odd\")"
      ],
      "metadata": {
        "id": "-uXtymTxegHF"
      },
      "execution_count": null,
      "outputs": []
    },
    {
      "cell_type": "markdown",
      "source": [
        "### Multialternative decision"
      ],
      "metadata": {
        "id": "UADudHbGeNuV"
      }
    },
    {
      "cell_type": "code",
      "execution_count": null,
      "metadata": {
        "id": "dmSDsybMMCvK"
      },
      "outputs": [],
      "source": [
        "x = 1343\n",
        "\n",
        "if x==0:\n",
        "  print(x, 'is zero')\n",
        "elif x>0:\n",
        "  print(x, 'is positive')\n",
        "elif x<0:\n",
        "  print(x, 'is negative')\n",
        "else:\n",
        "  print('something strange happened')"
      ]
    },
    {
      "cell_type": "markdown",
      "metadata": {
        "id": "kgVxIA5wMCvL"
      },
      "source": [
        "## Repetition"
      ]
    },
    {
      "cell_type": "markdown",
      "source": [
        "\n",
        "```\n",
        "for VAR in SET_OF_VALUES:\n",
        "    do something\n",
        "    if CONDITION:\n",
        "        continue\n",
        "    <something_that_runs_if_condition_IS_NOT_True>\n",
        "```"
      ],
      "metadata": {
        "id": "PbO9HSvqgVcw"
      }
    },
    {
      "cell_type": "code",
      "execution_count": null,
      "metadata": {
        "id": "Tg2IiFLzMCvL"
      },
      "outputs": [],
      "source": [
        "for i in 3, 4, 5, 11:\n",
        "  print(i)"
      ]
    },
    {
      "cell_type": "code",
      "execution_count": null,
      "metadata": {
        "id": "qIDAWo_2MCvL"
      },
      "outputs": [],
      "source": [
        "for i in range(8):\n",
        "  print(i)"
      ]
    },
    {
      "cell_type": "code",
      "source": [
        "for i in range(3,8):\n",
        "  print(i)"
      ],
      "metadata": {
        "id": "3wQsgZh8gngj"
      },
      "execution_count": null,
      "outputs": []
    },
    {
      "cell_type": "code",
      "execution_count": null,
      "metadata": {
        "id": "oWIwnH-SMCvL"
      },
      "outputs": [],
      "source": [
        "for i in range(3, 10, 2):\n",
        "  print(i)"
      ]
    },
    {
      "cell_type": "markdown",
      "source": [
        "### Decision Loop"
      ],
      "metadata": {
        "id": "ns3qYqXLgYBN"
      }
    },
    {
      "cell_type": "markdown",
      "source": [
        "\n",
        "```\n",
        "while <true_condition>:\n",
        "    do something\n",
        "    if ANOTHER_CONDITION:\n",
        "        break\n",
        "```"
      ],
      "metadata": {
        "id": "0M0sn37_gapI"
      }
    },
    {
      "cell_type": "code",
      "source": [
        "count = 0\n",
        "while count < 10 :\n",
        "  count += 1\n",
        "  print(count)\n",
        "print(\"End\")"
      ],
      "metadata": {
        "id": "sc82MGfMgtAN"
      },
      "execution_count": null,
      "outputs": []
    },
    {
      "cell_type": "markdown",
      "source": [
        "When using `while`, be careful of infinite loops."
      ],
      "metadata": {
        "id": "q7R8tZQZg5A6"
      }
    },
    {
      "cell_type": "code",
      "source": [
        " while 1 == 1:\n",
        "  print(\"Help, I’m stuck in a loop.\")"
      ],
      "metadata": {
        "id": "iTluDhd1g5oH"
      },
      "execution_count": null,
      "outputs": []
    },
    {
      "cell_type": "code",
      "execution_count": null,
      "metadata": {
        "id": "Fe3d_dqIMCvM"
      },
      "outputs": [],
      "source": [
        "i = 0\n",
        "while i < 10:\n",
        "  print(i)\n",
        "  i +=3\n",
        "  if i>3:\n",
        "    break"
      ]
    },
    {
      "cell_type": "markdown",
      "source": [
        "## `break` vs `continue`"
      ],
      "metadata": {
        "id": "bZQLz3GvhG_h"
      }
    },
    {
      "cell_type": "code",
      "source": [
        "var = 10\n",
        "\n",
        "while var > 0:\n",
        "   var -= 1\n",
        "   if var == 5:\n",
        "       break\n",
        "   print(var)\n",
        "\n",
        "print(\"Goodbye!\")"
      ],
      "metadata": {
        "id": "Z0NvI49ChIqQ"
      },
      "execution_count": null,
      "outputs": []
    },
    {
      "cell_type": "code",
      "source": [
        "var = 10\n",
        "\n",
        "while var > 0:\n",
        "   var -= 1\n",
        "   if var == 5:\n",
        "      continue\n",
        "   print(var)\n",
        "\n",
        "print(\"Goodbye!\")"
      ],
      "metadata": {
        "id": "01fFHmD-hW0Z"
      },
      "execution_count": null,
      "outputs": []
    },
    {
      "cell_type": "code",
      "source": [
        "var = 10\n",
        "while var > 0:\n",
        "  var -= 1\n",
        "  if var == 5:\n",
        "    continue\n",
        "    print(\"I'm here!\")\n",
        "  print(var)\n",
        "print(\"Goodbye!\")"
      ],
      "metadata": {
        "id": "esuU0dMshgCc"
      },
      "execution_count": null,
      "outputs": []
    },
    {
      "cell_type": "code",
      "source": [
        "var = 10\n",
        "while var > 0:\n",
        "  var -= 1\n",
        "  if var == 5:\n",
        "    print(\"I'm here!\")\n",
        "    continue\n",
        "  print(var)\n",
        "print(\"Goodbye!\")"
      ],
      "metadata": {
        "id": "kKmqJ5KYhk6y"
      },
      "execution_count": null,
      "outputs": []
    },
    {
      "cell_type": "markdown",
      "metadata": {
        "id": "Z1o4lQ_aMCvY"
      },
      "source": [
        "# Functions\n"
      ]
    },
    {
      "cell_type": "markdown",
      "source": [
        "* A block of code that only runs when explicitly called\n",
        "* Can accept arguments (or parameters) that alter its behavior\n",
        "* Can accept any number/type of inputs, but always return a single object\n",
        "    * Note: functions can return tuples (may *look like* multiple objects)\n",
        "    \n",
        "```python\n",
        "def function_name(arg1, arg2, arg3):\n",
        "    '''Documentation\n",
        "    can be\n",
        "    on multiple\n",
        "    lines\n",
        "    '''\n",
        "    what the function does\n",
        "```\n",
        "* `return` statement is optional\n",
        "* `return` you can return multiple elements returning a `tuple`\n",
        "```python\n",
        "    return a,b,c\n",
        "```"
      ],
      "metadata": {
        "id": "otiDleTIeAA5"
      }
    },
    {
      "cell_type": "code",
      "execution_count": null,
      "metadata": {
        "id": "lV4gPQnKMCvY"
      },
      "outputs": [],
      "source": [
        "def hello(name):\n",
        "  '''prints 'hello' followed by the arg name'''\n",
        "  print(\"Hello, \", name)\n",
        "\n",
        "hello(\"Juan\")"
      ]
    },
    {
      "cell_type": "code",
      "source": [
        "hello(name=\"Juan\")"
      ],
      "metadata": {
        "id": "Ho39YilTbQSK"
      },
      "execution_count": null,
      "outputs": []
    },
    {
      "cell_type": "code",
      "execution_count": null,
      "metadata": {
        "id": "iMVnYylEMCvY"
      },
      "outputs": [],
      "source": [
        "help(hello)"
      ]
    },
    {
      "cell_type": "code",
      "execution_count": null,
      "metadata": {
        "id": "si764DPPMCvZ"
      },
      "outputs": [],
      "source": [
        "hello?"
      ]
    },
    {
      "cell_type": "code",
      "execution_count": null,
      "metadata": {
        "id": "yAoznnw2MCvZ"
      },
      "outputs": [],
      "source": [
        "def interactive_hello():\n",
        "  '''prompt the user for a name, then prints \"hello\" followed by the name'''\n",
        "  name = str(input(\"write your name:\"))\n",
        "  print(\"hello, \", name)\n",
        "\n",
        "interactive_hello()"
      ]
    },
    {
      "cell_type": "markdown",
      "source": [
        "You can define a function with unknown number of arguments."
      ],
      "metadata": {
        "id": "jLA49249cGWJ"
      }
    },
    {
      "cell_type": "code",
      "execution_count": null,
      "metadata": {
        "id": "oKERb5owMCvZ"
      },
      "outputs": [],
      "source": [
        "def multi_hello(*names):\n",
        "  '''for each name in names print \"hello\" name'''\n",
        "  for i in names:\n",
        "    print(\"hello,\", i)\n",
        "  print(names[1])\n",
        "  print(type(names))\n",
        "\n",
        "multi_hello(\"cat1\", \"cat2\", \"cat3\",2)"
      ]
    },
    {
      "cell_type": "markdown",
      "source": [
        "You can define a function that returns multiple arguments."
      ],
      "metadata": {
        "id": "EUd3VPfncKLa"
      }
    },
    {
      "cell_type": "code",
      "execution_count": null,
      "metadata": {
        "id": "fFqfcujmMCvZ"
      },
      "outputs": [],
      "source": [
        "def funct():\n",
        "  '''super complicated algorithm which returns value and error estimation'''\n",
        "  value = 41\n",
        "  error = 1e-7\n",
        "  return value, error\n",
        "\n",
        "v, e = funct()\n",
        "print(v, e)"
      ]
    },
    {
      "cell_type": "markdown",
      "source": [
        "You can define recursive functions."
      ],
      "metadata": {
        "id": "Vk1_Id2AcOmC"
      }
    },
    {
      "cell_type": "code",
      "execution_count": null,
      "metadata": {
        "id": "XPYEI_ZlMCvZ"
      },
      "outputs": [],
      "source": [
        "def factorial(n):\n",
        "  if n < 2:\n",
        "    return 1\n",
        "  return n * factorial(n - 1)"
      ]
    },
    {
      "cell_type": "code",
      "execution_count": null,
      "metadata": {
        "id": "8Fhe2JuyMCvZ"
      },
      "outputs": [],
      "source": [
        "factorial(33)"
      ]
    },
    {
      "cell_type": "markdown",
      "metadata": {
        "id": "BMUSC5vBMCva"
      },
      "source": [
        "**Keyword arguments**\n",
        "\n",
        "A keyword argument is an argument passed to a function or method which is preceded by a keyword and an equals sign. The general form is:\n",
        "\n",
        "```\n",
        "function(keyword=value)\n",
        "```\n",
        "\n",
        "This way you don't have to remember the order of the arguments"
      ]
    },
    {
      "cell_type": "code",
      "execution_count": null,
      "metadata": {
        "id": "mh7XSHcBMCva"
      },
      "outputs": [],
      "source": [
        "def f(a,b,c):\n",
        "  print(a+1)\n",
        "  print(b+c)\n",
        "\n",
        "f(a=1,c=0,b=3)"
      ]
    },
    {
      "cell_type": "markdown",
      "metadata": {
        "id": "OVXoAr6PMCva"
      },
      "source": [
        "If you are used to \"thinking in C/C++/Fortran\", you might be confused as to how parameters are passed. It's called \"by association\" and behaves like \"by value\" or \"by reference\" depending on what you pass."
      ]
    },
    {
      "cell_type": "code",
      "execution_count": null,
      "metadata": {
        "id": "TaEGCvsjMCva"
      },
      "outputs": [],
      "source": [
        "a=1\n",
        "def f(x):\n",
        "  x=x+32\n",
        "  return x\n",
        "\n",
        "print(f(a))\n",
        "print(a)"
      ]
    },
    {
      "cell_type": "markdown",
      "source": [
        "So, you have to do:"
      ],
      "metadata": {
        "id": "uYbGS1fzc_Wh"
      }
    },
    {
      "cell_type": "code",
      "execution_count": null,
      "metadata": {
        "id": "nyNmr_s4MCva"
      },
      "outputs": [],
      "source": [
        "a = f(a)\n",
        "print(a)"
      ]
    },
    {
      "cell_type": "markdown",
      "source": [
        "It is different with lists though."
      ],
      "metadata": {
        "id": "-ybWBQ37dC9F"
      }
    },
    {
      "cell_type": "code",
      "execution_count": null,
      "metadata": {
        "id": "DTaeGj-FMCvb"
      },
      "outputs": [],
      "source": [
        "def lf(x):\n",
        "  x[0]=999\n",
        "\n",
        "x=[1,2,3,4,5]\n",
        "lf(x)\n",
        "print(x)"
      ]
    },
    {
      "cell_type": "markdown",
      "metadata": {
        "id": "vnAqLzpjMCvb"
      },
      "source": [
        "**lambda functions**\n",
        "(usually used inside other complicated functions)"
      ]
    },
    {
      "cell_type": "code",
      "execution_count": null,
      "metadata": {
        "id": "8vjtbx4rMCvb"
      },
      "outputs": [],
      "source": [
        "x = lambda a : a + 10\n",
        "print(x(5))"
      ]
    },
    {
      "cell_type": "code",
      "execution_count": null,
      "metadata": {
        "id": "IFefcLW9MCvb"
      },
      "outputs": [],
      "source": [
        "def myfunc(n):\n",
        "  return lambda a : a * n"
      ]
    },
    {
      "cell_type": "code",
      "execution_count": null,
      "metadata": {
        "id": "dFGHtC_ZMCvc"
      },
      "outputs": [],
      "source": [
        "mymult2 = myfunc(2)"
      ]
    },
    {
      "cell_type": "code",
      "execution_count": null,
      "metadata": {
        "id": "7rEfKLgLMCvc"
      },
      "outputs": [],
      "source": [
        "type(mymult2)"
      ]
    },
    {
      "cell_type": "code",
      "execution_count": null,
      "metadata": {
        "id": "iQDtNxmRMCvc"
      },
      "outputs": [],
      "source": [
        "mymult2(3)"
      ]
    },
    {
      "cell_type": "markdown",
      "source": [
        "# References\n",
        "\n",
        "1.   [Python Software Foundation](https://docs.python.org/3/tutorial/)\n",
        "2. [Google Colaboratory](https://colab.research.google.com/)\n",
        "3.   [Krishna et al. (2022) Introduction to Data Science with Python](https://nustat.github.io/DataScience_Intro_python/Introduction%20to%20Python%20and%20Jupyter%20Notebooks.html)\n",
        "3. [Serafina Di Gioia (2024), Python 101, SMR 3935](https://indico.ictp.it/event/10473)\n",
        "\n"
      ],
      "metadata": {
        "id": "pBsc-0E1Ar6K"
      }
    }
  ]
}