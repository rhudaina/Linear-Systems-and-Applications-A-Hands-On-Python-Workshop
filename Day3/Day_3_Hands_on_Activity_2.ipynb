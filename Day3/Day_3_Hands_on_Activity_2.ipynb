{
  "nbformat": 4,
  "nbformat_minor": 0,
  "metadata": {
    "colab": {
      "provenance": []
    },
    "kernelspec": {
      "name": "python3",
      "display_name": "Python 3"
    },
    "language_info": {
      "name": "python"
    }
  },
  "cells": [
    {
      "cell_type": "markdown",
      "source": [
        "<a href=\"https://colab.research.google.com/github/rhudaina/Linear-Systems-and-Applications-A-Hands-On-Python-Workshop/blob/main/Day3/Day_3_Hands_on_Activity_2.ipynb\" target=\"_parent\"><img src=\"https://colab.research.google.com/assets/colab-badge.svg\" alt=\"Open In Colab\"/></a>"
      ],
      "metadata": {
        "id": "z78EioSmX3ld"
      }
    },
    {
      "cell_type": "markdown",
      "source": [
        "### 1. Perform Principal Component Analysis on the wine dataset. How many principal components $p$ do you need to get an explained variance of at least 80%?"
      ],
      "metadata": {
        "id": "vrax6mMNuVJr"
      }
    },
    {
      "cell_type": "code",
      "source": [
        "from sklearn.datasets import load_wine\n",
        "wine = load_wine()\n",
        "print(wine)"
      ],
      "metadata": {
        "id": "boFIVGu2uZqx"
      },
      "execution_count": null,
      "outputs": []
    },
    {
      "cell_type": "code",
      "source": [],
      "metadata": {
        "id": "3x7wsGzhvbET"
      },
      "execution_count": null,
      "outputs": []
    },
    {
      "cell_type": "markdown",
      "source": [
        "### 2. Take a picture with a new friend from this workshop. Convert your colored digital image to blue B, green G, and red R intensity matrices. For each intensity matrix (channel), take its singular value decomposition and plot the singular values and corresponding image variance. Determine the lowest possible $p$ so that the truncated SVDs yield at least 80% image variance in all color channels. Plot the corresponding compressed colored image.\n"
      ],
      "metadata": {
        "id": "iNrOCn_mrm-F"
      }
    },
    {
      "cell_type": "code",
      "source": [
        "import matplotlib.pyplot as plt\n",
        "plt.imshow(Img, vmin = 0, vmax = 255)\n",
        "plt.axis(\"off\")\n",
        "plt.show()"
      ],
      "metadata": {
        "id": "9uCAaYgAto7w"
      },
      "execution_count": null,
      "outputs": []
    },
    {
      "cell_type": "code",
      "source": [
        "import cv2\n",
        "Img = cv2.imread(\"photo.png\", cv2.IMREAD_COLOR);\n",
        "B = Img[:,:,0]\n",
        "G = Img[:,:,1]\n",
        "R = Img[:,:,2]"
      ],
      "metadata": {
        "id": "Itpr6GXXrlQW"
      },
      "execution_count": null,
      "outputs": []
    },
    {
      "cell_type": "code",
      "source": [],
      "metadata": {
        "id": "EU302JwEtwzQ"
      },
      "execution_count": null,
      "outputs": []
    }
  ]
}