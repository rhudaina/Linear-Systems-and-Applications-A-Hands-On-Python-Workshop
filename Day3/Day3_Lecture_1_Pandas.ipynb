{
  "nbformat": 4,
  "nbformat_minor": 0,
  "metadata": {
    "colab": {
      "provenance": []
    },
    "kernelspec": {
      "name": "python3",
      "display_name": "Python 3"
    },
    "language_info": {
      "name": "python"
    }
  },
  "cells": [
    {
      "cell_type": "markdown",
      "source": [
        "<a href=\"https://colab.research.google.com/github/rhudaina/Linear-Systems-and-Applications-A-Hands-On-Python-Workshop/blob/main/Day3/Day3_Lecture_1_Pandas.ipynb\" target=\"_parent\"><img src=\"https://colab.research.google.com/assets/colab-badge.svg\" alt=\"Open In Colab\"/></a>"
      ],
      "metadata": {
        "id": "5RNGj9vUZwXe"
      }
    },
    {
      "cell_type": "markdown",
      "metadata": {
        "id": "D_RiaIypwag7"
      },
      "source": [
        "# Pandas"
      ]
    },
    {
      "cell_type": "markdown",
      "source": [
        "[Pandas](https://pandas.pydata.org/) is a Python package for tabular data."
      ],
      "metadata": {
        "id": "kFfLwVFXwky7"
      }
    },
    {
      "cell_type": "code",
      "execution_count": null,
      "metadata": {
        "id": "RY1Usev7wag8"
      },
      "outputs": [],
      "source": [
        "import pandas as pd\n",
        "import matplotlib.pyplot as plt\n",
        "import seaborn as sns\n",
        "pd.__version__"
      ]
    },
    {
      "cell_type": "markdown",
      "metadata": {
        "id": "U43rUBTowag-"
      },
      "source": [
        "## Overview"
      ]
    },
    {
      "cell_type": "markdown",
      "source": [
        "Pandas provides a `DataFrame` object, which is used to hold tables of data (the name `DataFrame` comes from a [similar object in R](https://www.rdocumentation.org/packages/base/versions/3.6.2/topics/data.frame)).  The primary difference compared to a NumPy `ndarray` is that you can easily handle different data types in each column.\n",
        "\n",
        "### Difference between a DataFrame and NumPy Array\n",
        "\n",
        "Pandas DataFrames and NumPy arrays both have similarities to Python lists.  \n",
        "* Numpy arrays are designed to contain data of one type (e.g. Int, Float, ...)\n",
        "* DataFrames can contain different types of data (Int, Float, String, ...)\n",
        "    * Usually each column has the same type\n",
        "    \n",
        "    \n",
        "Both arrays and DataFrames are optimized for storage/performance beyond Python lists\n",
        "\n",
        "Pandas is also powerful for working with missing data, working with time series data, for reading and writing your data, for reshaping, grouping, merging your data, ...\n",
        "\n",
        "### Key Features\n",
        "\n",
        "* File I/O - integrations with multiple file formats\n",
        "* Working with missing data (.dropna(), pd.isnull())\n",
        "* Normal table operations: merging and joining, groupby functionality, reshaping via stack, and pivot_tables,\n",
        "* Time series-specific functionality:\n",
        "    * date range generation and frequency conversion, moving window statistics/regressions, date shifting and lagging, etc.\n",
        "* Built in Matplotlib integration\n",
        "\n",
        "### Other Strengths\n",
        "\n",
        "* Strong community, support, and documentation\n",
        "* Size mutability: columns can be inserted and deleted from DataFrame and higher dimensional objects\n",
        "* Powerful, flexible group by functionality to perform split-apply-combine operations on data sets, for both aggregating and transforming data\n",
        "* Make it easy to convert ragged, differently-indexed data in other Python and NumPy data structures into DataFrame objects Intelligent label-based slicing, fancy indexing, and subsetting of large data sets\n",
        "\n",
        "### Python/Pandas vs. R\n",
        "\n",
        "* R is a language dedicated to statistics. Python is a general-purpose language with statistics modules.\n",
        "* R has more statistical analysis features than Python, and specialized syntaxes.\n",
        "\n",
        "However, when it comes to building complex analysis pipelines that mix statistics with e.g. image analysis, text mining, or control of a physical experiment, the richness of Python is an invaluable asset.\n",
        "\n",
        "### Objects and Basic Creation\n",
        "\n",
        "| Name | Dimensions | Description  |\n",
        "| ------:| -----------:|----------|\n",
        "| ```pd.Series``` | 1 | 1D labeled homogeneously-typed array |\n",
        "| ```pd.DataFrame```  | 2| General 2D labeled, size-mutable tabular structure |\n",
        "| ```pd.Panel``` | 3|  General 3D labeled, also size-mutable array |\n",
        "\n",
        "### Get Started\n",
        "We'll load the Titanic data set, which is part of seaborn's example data.  It contains information about 891 passengers on the infamous [Titanic](https://en.wikipedia.org/wiki/Titanic)\n",
        "\n",
        "See the [Pandas tutorial on reading/writing data](https://pandas.pydata.org/docs/getting_started/intro_tutorials/02_read_write.html) for more information."
      ],
      "metadata": {
        "id": "njbyixYrwrah"
      }
    },
    {
      "cell_type": "code",
      "execution_count": null,
      "metadata": {
        "id": "UsLHmCYHwag-"
      },
      "outputs": [],
      "source": [
        "titanic = pd.read_csv(\"https://raw.githubusercontent.com/mwaskom/seaborn-data/master/titanic.csv\")\n",
        "df = titanic\n",
        "df"
      ]
    },
    {
      "cell_type": "markdown",
      "metadata": {
        "id": "lWeh_Os1wag-"
      },
      "source": [
        "We see that there are a variety of columns.  Some contain numeric values, some contain strings, some contain booleans, etc."
      ]
    },
    {
      "cell_type": "markdown",
      "metadata": {
        "id": "r19E7AXewag_"
      },
      "source": [
        "If you want to access a particular column, you can create a `Series` using the column title."
      ]
    },
    {
      "cell_type": "code",
      "execution_count": null,
      "metadata": {
        "id": "lHGozA4Mwag_"
      },
      "outputs": [],
      "source": [
        "ages = df[\"age\"] # __getitem__\n",
        "ages"
      ]
    },
    {
      "cell_type": "markdown",
      "metadata": {
        "id": "1zZGbny_wag_"
      },
      "source": [
        "Column titles are also treated as object attributes:"
      ]
    },
    {
      "cell_type": "code",
      "execution_count": null,
      "metadata": {
        "id": "M58KmW-8wag_"
      },
      "outputs": [],
      "source": [
        "ages = df.age\n",
        "ages"
      ]
    },
    {
      "cell_type": "markdown",
      "metadata": {
        "id": "BxGS-B8rwag_"
      },
      "source": [
        "Pandas `DataFrames` and `Series` have a variety of built-in methods to examine data"
      ]
    },
    {
      "cell_type": "code",
      "execution_count": null,
      "metadata": {
        "id": "hUiTOZWOwag_"
      },
      "outputs": [],
      "source": [
        "print(ages.max())\n",
        "print(ages.min())\n",
        "print(ages.mean())\n",
        "print(ages.median())"
      ]
    },
    {
      "cell_type": "markdown",
      "metadata": {
        "id": "Ro9y47VHwahA"
      },
      "source": [
        "You can display a variety of statistics using `describe()`.  Note that `NaN` values are simply ignored."
      ]
    },
    {
      "cell_type": "code",
      "execution_count": null,
      "metadata": {
        "id": "qZ_n0EicwahA"
      },
      "outputs": [],
      "source": [
        "ages.describe()"
      ]
    },
    {
      "cell_type": "markdown",
      "metadata": {
        "id": "1kzQx950wahA"
      },
      "source": [
        "Depending on the type of data held in the series, `describe` has different functionality."
      ]
    },
    {
      "cell_type": "code",
      "execution_count": null,
      "metadata": {
        "id": "4Jxqp9h3wahA"
      },
      "outputs": [],
      "source": [
        "df['sex'].describe()"
      ]
    },
    {
      "cell_type": "markdown",
      "metadata": {
        "id": "_OLCSrtJwahA"
      },
      "source": [
        "You can find some more discussion in the Pandas tutorial [here](https://pandas.pydata.org/docs/getting_started/intro_tutorials/01_table_oriented.html)"
      ]
    },
    {
      "cell_type": "markdown",
      "metadata": {
        "id": "SvBNnkIpwahA"
      },
      "source": [
        "### Selecting Subsets of DataFrames\n",
        "\n",
        "You can select multiple columns"
      ]
    },
    {
      "cell_type": "code",
      "execution_count": null,
      "metadata": {
        "id": "qucHuzuowahB"
      },
      "outputs": [],
      "source": [
        "df2 = df[[\"age\", \"survived\"]]\n",
        "df2"
      ]
    },
    {
      "cell_type": "markdown",
      "metadata": {
        "id": "l-2FarujwahB"
      },
      "source": [
        "If you want to select certain rows, using some sort of criteria, you can create a series of booleans"
      ]
    },
    {
      "cell_type": "code",
      "execution_count": null,
      "metadata": {
        "id": "MvCBCz7HwahB"
      },
      "outputs": [],
      "source": [
        "mask = df2['age'] > 30\n",
        "df2[mask]"
      ]
    },
    {
      "cell_type": "markdown",
      "metadata": {
        "id": "T-ONTofBwahB"
      },
      "source": [
        "We see that we only have 305 rows now"
      ]
    },
    {
      "cell_type": "markdown",
      "metadata": {
        "id": "mcR8ubjwwahB"
      },
      "source": [
        "If you just want to access specific rows, you can use `iloc`"
      ]
    },
    {
      "cell_type": "code",
      "execution_count": null,
      "metadata": {
        "scrolled": true,
        "id": "KcXgC-jewahC"
      },
      "outputs": [],
      "source": [
        "df.iloc[:4]"
      ]
    },
    {
      "cell_type": "markdown",
      "metadata": {
        "id": "EP9bRV0YwahC"
      },
      "source": [
        "### Aside: Attributes\n",
        "\n",
        "Recall that you can access columns of a `DataFrame` using attributes:"
      ]
    },
    {
      "cell_type": "code",
      "execution_count": null,
      "metadata": {
        "id": "I-fvxjSjwahC"
      },
      "outputs": [],
      "source": [
        "df.age"
      ]
    },
    {
      "cell_type": "markdown",
      "metadata": {
        "id": "yqWUzqquwahD"
      },
      "source": [
        "## Missing data"
      ]
    },
    {
      "cell_type": "markdown",
      "metadata": {
        "id": "QObHbj8XwahE"
      },
      "source": [
        "In data analysis, knowing how to properly fill in missing data is very important, sometimes we don't want to just ignore them, especially when the observational numbers are small. There are various ways to do it such as filling with the mean, K-Nearest Neighbors (KNN) methods and so on.\n",
        "\n",
        "Suppose we are trying to replace missing values in age column as its mean from titanic dataset."
      ]
    },
    {
      "cell_type": "code",
      "execution_count": null,
      "metadata": {
        "id": "5TEvVpHQwahE"
      },
      "outputs": [],
      "source": [
        "titanic = pd.read_csv(\"https://raw.githubusercontent.com/mwaskom/seaborn-data/master/titanic.csv\")\n",
        "titanic.head()"
      ]
    },
    {
      "cell_type": "code",
      "execution_count": null,
      "metadata": {
        "id": "w-eGGbQewahE"
      },
      "outputs": [],
      "source": [
        "ages = titanic[\"age\"]\n",
        "ages"
      ]
    },
    {
      "cell_type": "code",
      "execution_count": null,
      "metadata": {
        "id": "FzKYXq0HwahF"
      },
      "outputs": [],
      "source": [
        "ageMean = ages.mean()\n",
        "titanic[\"age\"] = ages.fillna(ageMean)\n",
        "titanic[\"age\"]"
      ]
    },
    {
      "cell_type": "markdown",
      "metadata": {
        "id": "XZRWKn61wahI"
      },
      "source": [
        "## Data Frames"
      ]
    },
    {
      "cell_type": "markdown",
      "source": [
        "- a `DataFrame` is a 2-dimensional labeled data structure with columns of potentially different types. You can think of it like a spreadsheet or SQL table, or a dict of Series objects. It is generally the most commonly used pandas object.\n",
        "- You can create a DataFrame from:\n",
        "    - Dict of 1D ndarrays, lists, dicts, or Series\n",
        "    - 2-D numpy array\n",
        "    - A list of dictionaries\n",
        "    - A Series\n",
        "    - Another Dataframe\n",
        "``` python\n",
        "df = pd.DataFrame(data, index = index, columns = columns)\n",
        "```\n",
        "- ```index```/ ``` columns ``` is a list of the row/ column labels. If you pass an index and/ or columns, you are guarenteeing the index and /or column of the df.\n",
        "- If you do not pass anything in, the input will be constructed by \"common sense\" rules\n",
        "\n",
        "Documentation: [**pandas.DataFrame**](http://pandas.pydata.org/pandas-docs/stable/generated/pandas.DataFrame.html)"
      ],
      "metadata": {
        "id": "6nsvncoPyhph"
      }
    },
    {
      "cell_type": "markdown",
      "metadata": {
        "id": "M4aUJ2t_wahK"
      },
      "source": [
        "### Indexing and Selection\n",
        "\n",
        "4 methods ``` [], ix, iloc, loc ```\n",
        "\n",
        "| Operation  | Syntax       | Result |\n",
        "|----|----------------------| ---------------------------|\n",
        "| Select Column | df[col]   |    Series                      |\n",
        "| Select Row by Label | df.loc[label] | Series  |\n",
        "| Select Row by Integer Location | df.iloc[idx] |      Series                    |\n",
        "| Slice rows | df[5:10]        |                        DataFrame  |\n",
        "| Select rows by boolean | df[mask]   | DataFrame        |\n",
        "\n",
        "Note all the operations below are valid on series as well restricted to one dimension\n",
        "\n",
        "Indexing using `[]`\n",
        "\n",
        "- Series: selecting a label: s[label]\n",
        "- DataFrame: selection single or multiple columns:\n",
        "```python\n",
        "df['col'] or df[['col1', 'col2']]\n",
        "```\n",
        "- DataFrame: slicing the rows:\n",
        "```python\n",
        "df['rowlabel1': 'rowlabel2']\n",
        "```\n",
        "or\n",
        "```python\n",
        "df[boolean_mask]\n",
        "```"
      ]
    },
    {
      "cell_type": "markdown",
      "source": [
        "Lets create a data frame"
      ],
      "metadata": {
        "id": "mBVdbi5qzN9P"
      }
    },
    {
      "cell_type": "code",
      "execution_count": null,
      "metadata": {
        "id": "zsakNT0FwahK"
      },
      "outputs": [],
      "source": [
        "import numpy as np\n",
        "pd.options.display.max_rows = 4\n",
        "dates = pd.date_range('1/1/2000', periods=8)\n",
        "df = pd.DataFrame(np.random.randn(8, 4), index=dates, columns=['A', 'B', 'C','D'])\n",
        "df"
      ]
    },
    {
      "cell_type": "markdown",
      "source": [
        "You can access column  A:"
      ],
      "metadata": {
        "id": "mrvT5_VezflM"
      }
    },
    {
      "cell_type": "code",
      "execution_count": null,
      "metadata": {
        "id": "YrSqRu2rwahK"
      },
      "outputs": [],
      "source": [
        "df['A']"
      ]
    },
    {
      "cell_type": "markdown",
      "source": [
        "You can access all rows, columns A, B:"
      ],
      "metadata": {
        "id": "0y6ta-ctzhOE"
      }
    },
    {
      "cell_type": "code",
      "execution_count": null,
      "metadata": {
        "id": "rvlB7OoMwahK"
      },
      "outputs": [],
      "source": [
        "df.loc[:,\"A\":\"B\"]"
      ]
    },
    {
      "cell_type": "markdown",
      "source": [
        "You can access multiple columns:"
      ],
      "metadata": {
        "id": "aAyGmFr0zon0"
      }
    },
    {
      "cell_type": "code",
      "execution_count": null,
      "metadata": {
        "id": "8pqjzahUwahK"
      },
      "outputs": [],
      "source": [
        "df[['A', 'B']]"
      ]
    },
    {
      "cell_type": "markdown",
      "source": [
        "You can slice by rows"
      ],
      "metadata": {
        "id": "6p-Mn5Xzzsxm"
      }
    },
    {
      "cell_type": "code",
      "execution_count": null,
      "metadata": {
        "id": "kW0Fn9iHwahK"
      },
      "outputs": [],
      "source": [
        "df['2000-01-01': '2000-01-04']"
      ]
    },
    {
      "cell_type": "markdown",
      "source": [
        "You can use boolean mask to slice"
      ],
      "metadata": {
        "id": "RgupU9plzvfI"
      }
    },
    {
      "cell_type": "code",
      "execution_count": null,
      "metadata": {
        "id": "gTGirjGiwahL"
      },
      "outputs": [],
      "source": [
        "df[df['A'] > df['B']]"
      ]
    },
    {
      "cell_type": "markdown",
      "source": [
        "You can assign values via `[]`"
      ],
      "metadata": {
        "id": "UTjMZiEnzyL7"
      }
    },
    {
      "cell_type": "code",
      "execution_count": null,
      "metadata": {
        "id": "EcFdNC0nwahL"
      },
      "outputs": [],
      "source": [
        "df['A'] = df['B'].values\n",
        "df"
      ]
    },
    {
      "cell_type": "markdown",
      "metadata": {
        "id": "wpP2MpuVwahL"
      },
      "source": [
        "Selecting by label: `.loc`\n",
        "\n",
        "- is primarily label based, but may also be used with a boolean array.\n",
        "- .loc will raise KeyError when the items are not found\n",
        "- Allowed inputs:\n",
        "    1. A single label\n",
        "    2. A list of labels\n",
        "    3. A boolean array"
      ]
    },
    {
      "cell_type": "code",
      "execution_count": null,
      "metadata": {
        "id": "Cr0m0T2DwahL"
      },
      "outputs": [],
      "source": [
        "df.loc['2000-01-01']"
      ]
    },
    {
      "cell_type": "code",
      "execution_count": null,
      "metadata": {
        "id": "1AbWTKDMwahL"
      },
      "outputs": [],
      "source": [
        "df.loc[:, 'A':'C']"
      ]
    },
    {
      "cell_type": "markdown",
      "source": [
        "You can get columns for which value is greater than 0 on certain day, get all rows"
      ],
      "metadata": {
        "id": "vENpeFXsz6ye"
      }
    },
    {
      "cell_type": "code",
      "execution_count": null,
      "metadata": {
        "id": "ktbRV7FHwahL"
      },
      "outputs": [],
      "source": [
        "df.loc[:, df.loc['2000-01-01'] > 0]"
      ]
    },
    {
      "cell_type": "markdown",
      "metadata": {
        "id": "0UeD4GmfwahM"
      },
      "source": [
        "Selecting by position: `iloc`\n",
        "\n",
        "- The .iloc attribute is the primary access method. The following are valid input:\n",
        "    - An integer\n",
        "    - A list of integers\n",
        "    - A slice\n",
        "    - A boolean array"
      ]
    },
    {
      "cell_type": "code",
      "execution_count": null,
      "metadata": {
        "id": "C5gUPdA-wahM"
      },
      "outputs": [],
      "source": [
        "df1 = pd.DataFrame(np.random.randn(6,4), index=list(range(0,12,2)), columns=list(range(0,12,3)))\n",
        "df1"
      ]
    },
    {
      "cell_type": "markdown",
      "source": [
        "You can select specific rows:"
      ],
      "metadata": {
        "id": "7J_8oBZU0LgN"
      }
    },
    {
      "cell_type": "code",
      "execution_count": null,
      "metadata": {
        "id": "ja0yXQ0qwahM"
      },
      "outputs": [],
      "source": [
        "df1.iloc[:3]"
      ]
    },
    {
      "cell_type": "markdown",
      "source": [
        "You can select by specifying rows and columns"
      ],
      "metadata": {
        "id": "CORhu6CS0SFT"
      }
    },
    {
      "cell_type": "code",
      "execution_count": null,
      "metadata": {
        "id": "6HPa9bh0wahM"
      },
      "outputs": [],
      "source": [
        "df1.iloc[1:5, 2:4]"
      ]
    },
    {
      "cell_type": "markdown",
      "source": [
        "You can select by integer list:"
      ],
      "metadata": {
        "id": "bMT0OQLw0XR8"
      }
    },
    {
      "cell_type": "code",
      "execution_count": null,
      "metadata": {
        "id": "Nsx2uu49wahM"
      },
      "outputs": [],
      "source": [
        "df1.iloc[[1,3,5], [1,3]]"
      ]
    },
    {
      "cell_type": "markdown",
      "source": [
        "You can select via integer mask"
      ],
      "metadata": {
        "id": "jWVDbrOc0Zxz"
      }
    },
    {
      "cell_type": "code",
      "execution_count": null,
      "metadata": {
        "id": "nMmgDodiwahM"
      },
      "outputs": [],
      "source": [
        "boolean_mask = df1.iloc[:, 1] > 0.0\n",
        "df1.iloc[boolean_mask.values,1]"
      ]
    },
    {
      "cell_type": "markdown",
      "metadata": {
        "id": "vGBfaSIjwahN"
      },
      "source": [
        "## Plotting\n",
        "\n",
        "`DataFrames` and `Series` have a variety of built-in plotting methods:"
      ]
    },
    {
      "cell_type": "markdown",
      "metadata": {
        "id": "yl4MfwyAwahN"
      },
      "source": [
        "Let's take a look at the [Iris data set](https://archive.ics.uci.edu/ml/datasets/Iris)"
      ]
    },
    {
      "cell_type": "markdown",
      "metadata": {
        "id": "L53SZlgcwahN"
      },
      "source": [
        "1. sepal length in cm\n",
        "2. sepal width in cm\n",
        "3. petal length in cm\n",
        "4. petal width in cm\n",
        "5. class:\n",
        "-- Iris Setosa\n",
        "-- Iris Versicolour\n",
        "-- Iris Virginica"
      ]
    },
    {
      "cell_type": "code",
      "execution_count": null,
      "metadata": {
        "id": "bzsN3wLZwahN"
      },
      "outputs": [],
      "source": [
        "iris = pd.read_csv(\"https://archive.ics.uci.edu/ml/machine-learning-databases/iris/iris.data\",\n",
        "      names=[\"sepal length\", \"sepal width\", \"petal length\", \"petal width\", \"class\"])\n",
        "iris"
      ]
    },
    {
      "cell_type": "code",
      "execution_count": null,
      "metadata": {
        "id": "SBbtsLc_wahN"
      },
      "outputs": [],
      "source": [
        "iris.plot()\n",
        "plt.show()"
      ]
    },
    {
      "cell_type": "code",
      "execution_count": null,
      "metadata": {
        "id": "ALnVl63wwahN"
      },
      "outputs": [],
      "source": [
        "# Titanic DataSet\n",
        "df = pd.read_csv(\"https://raw.githubusercontent.com/mwaskom/seaborn-data/master/titanic.csv\")\n",
        "\n",
        "df.age.plot()\n",
        "plt.show()"
      ]
    },
    {
      "cell_type": "markdown",
      "metadata": {
        "id": "0CDCZ1oDwahO"
      },
      "source": [
        "`plot` just plots the value by index, and doesn't make a lot of sense unless the index means something (like time).  In this case, a histogram makes more sense:"
      ]
    },
    {
      "cell_type": "code",
      "execution_count": null,
      "metadata": {
        "id": "yDLfD529wahO"
      },
      "outputs": [],
      "source": [
        "df.age.hist()\n",
        "plt.show()"
      ]
    },
    {
      "cell_type": "markdown",
      "metadata": {
        "id": "TZp7orZ8wahO"
      },
      "source": [
        "We can also create scatter plots of two columns"
      ]
    },
    {
      "cell_type": "code",
      "execution_count": null,
      "metadata": {
        "id": "4_FgcZYMwahO"
      },
      "outputs": [],
      "source": [
        "df.plot.scatter(x='age', y='fare', alpha=0.5)\n",
        "plt.show()"
      ]
    },
    {
      "cell_type": "markdown",
      "metadata": {
        "id": "ASCYMKkKwahO"
      },
      "source": [
        "You can also create box plots"
      ]
    },
    {
      "cell_type": "code",
      "execution_count": null,
      "metadata": {
        "id": "bSgkbpJTwahO"
      },
      "outputs": [],
      "source": [
        "df.age.plot.box()\n",
        "plt.show()"
      ]
    },
    {
      "cell_type": "markdown",
      "metadata": {
        "id": "Gvsbz8XJwahO"
      },
      "source": [
        "## Summary Statistics\n",
        "\n",
        "Basic summary statistics are built into Pandas.  These are easy to compute on columns/series"
      ]
    },
    {
      "cell_type": "code",
      "execution_count": null,
      "metadata": {
        "id": "Y6sCwWj1wahP"
      },
      "outputs": [],
      "source": [
        "print(df.age.mean())\n",
        "print(df.age.median())"
      ]
    },
    {
      "cell_type": "markdown",
      "metadata": {
        "id": "hsDH5Z5IwahP"
      },
      "source": [
        "You can also compute statistics on multiple (or all columns)"
      ]
    },
    {
      "cell_type": "code",
      "execution_count": null,
      "metadata": {
        "id": "MClLsAqpwahP"
      },
      "outputs": [],
      "source": [
        "df[['age', 'fare']].mean()"
      ]
    },
    {
      "cell_type": "markdown",
      "metadata": {
        "id": "1Wv3ExkHwahP"
      },
      "source": [
        "You can also compute statistics grouping by category"
      ]
    },
    {
      "cell_type": "code",
      "execution_count": null,
      "metadata": {
        "id": "gvF5l3hQwahP"
      },
      "outputs": [],
      "source": [
        "df[['age', 'sex']].groupby('sex').mean()"
      ]
    },
    {
      "cell_type": "markdown",
      "metadata": {
        "id": "F_erl0aOwahP"
      },
      "source": [
        "You can count how many records are in each category for categorical variables"
      ]
    },
    {
      "cell_type": "code",
      "execution_count": null,
      "metadata": {
        "id": "ZPt6i0jXwahQ"
      },
      "outputs": [],
      "source": [
        "df['pclass'].value_counts()"
      ]
    },
    {
      "cell_type": "code",
      "execution_count": null,
      "metadata": {
        "id": "a5kIpG_fwahQ"
      },
      "outputs": [],
      "source": [
        "df.groupby('sex')['pclass'].value_counts()"
      ]
    },
    {
      "cell_type": "markdown",
      "metadata": {
        "id": "z9Dv185GwahU"
      },
      "source": [
        "## Table Manipulation\n",
        "\n",
        "You can sort tables by a column value:"
      ]
    },
    {
      "cell_type": "code",
      "execution_count": null,
      "metadata": {
        "id": "7L_g0oeowahU"
      },
      "outputs": [],
      "source": [
        "df.sort_values(by='age')[:10]"
      ]
    },
    {
      "cell_type": "markdown",
      "metadata": {
        "id": "u_ZuxrWRwahU"
      },
      "source": [
        "You can also sort by a primary key and secondary key"
      ]
    },
    {
      "cell_type": "code",
      "execution_count": null,
      "metadata": {
        "id": "VygVBzqGwahV"
      },
      "outputs": [],
      "source": [
        "df.sort_values(by=['pclass', 'age'])[:600]"
      ]
    },
    {
      "cell_type": "markdown",
      "metadata": {
        "id": "5_X8C97_wahW"
      },
      "source": [
        "### Pivot Tables\n",
        "\n",
        "Say you want the mean age for each sex grouped by class.  We can create a [pivot table](https://pandas.pydata.org/docs/getting_started/intro_tutorials/07_reshape_table_layout.html#pivot-table) to display the data:"
      ]
    },
    {
      "cell_type": "code",
      "execution_count": null,
      "metadata": {
        "id": "q-IXx-JgwahW"
      },
      "outputs": [],
      "source": [
        "titanic.pivot_table(values=\"age\", index=\"sex\", columns=\"pclass\", aggfunc=\"mean\")"
      ]
    },
    {
      "cell_type": "markdown",
      "metadata": {
        "id": "A73I0CYPwahW"
      },
      "source": [
        "you can change the aggregation function to compute other statistics"
      ]
    },
    {
      "cell_type": "code",
      "execution_count": null,
      "metadata": {
        "id": "erduGuyuwahW"
      },
      "outputs": [],
      "source": [
        "titanic.pivot_table(values=\"age\", index=\"sex\", columns=\"pclass\", aggfunc=\"median\")"
      ]
    },
    {
      "cell_type": "markdown",
      "metadata": {
        "id": "Tu7x__2ywahW"
      },
      "source": [
        "### Merging DataFrames\n",
        "\n",
        "- Pandas has full-featured, very high performance, in memory join operations that are very similar to SQL and R\n",
        "\n",
        "- The documentation is https://pandas.pydata.org/pandas-docs/stable/merging.html#database-style-dataframe-joining-merging\n",
        "\n",
        "- Pandas provides a single function, merge, as the entry point for all standard database join operations between DataFrame objects:\n",
        "```python\n",
        "pd.merge(left, right, how='inner', on=None, left_on=None, right_on=None,\n",
        "left_index=False, right_index=False, sort=True)\n",
        "```"
      ]
    },
    {
      "cell_type": "code",
      "execution_count": null,
      "metadata": {
        "id": "c2QHF-OVwahW"
      },
      "outputs": [],
      "source": [
        "# Example of merge\n",
        "left = pd.DataFrame({'key': ['foo', 'bar'], 'lval': [4, 2]})\n",
        "right = pd.DataFrame({'key': ['bar', 'zoo'], 'rval': [4, 5]})\n",
        "\n",
        "print(\"left: \",left,\"right: \",right, sep=end_string)"
      ]
    },
    {
      "cell_type": "code",
      "execution_count": null,
      "metadata": {
        "id": "7GehFod-wahX"
      },
      "outputs": [],
      "source": [
        "merged = pd.merge(left, right, how=\"inner\")\n",
        "print(merged)"
      ]
    },
    {
      "cell_type": "code",
      "execution_count": null,
      "metadata": {
        "id": "CBVmqUHwwahX"
      },
      "outputs": [],
      "source": [
        "merged = pd.merge(left, right, how=\"outer\")\n",
        "print(merged)"
      ]
    },
    {
      "cell_type": "code",
      "execution_count": null,
      "metadata": {
        "id": "iRxO6uNPwahX"
      },
      "outputs": [],
      "source": [
        "merged = pd.merge(left, right, how=\"left\")\n",
        "print(merged)"
      ]
    },
    {
      "cell_type": "code",
      "execution_count": null,
      "metadata": {
        "id": "erdaK9i4wahX"
      },
      "outputs": [],
      "source": [
        "merged = pd.merge(left, right, how=\"right\")\n",
        "print(merged)"
      ]
    },
    {
      "cell_type": "markdown",
      "metadata": {
        "id": "QXQZ7M_9wahX"
      },
      "source": [
        "### Functions\n",
        "\n",
        " Row or Column-wise Function Application: Applies function along input axis of DataFrame\n",
        "```python\n",
        "df.apply(func, axis = 0)\n",
        "```\n",
        "\n",
        "Elementwise: apply the function to every element in the df\n",
        "```python\n",
        "df.applymap(func)\n",
        "```\n",
        "\n",
        "- Note, ``` applymap ``` is equivalent to the ``` map ``` function on lists.\n",
        "- Note, ``` Series ``` objects support ``` .map ``` instead of ``` applymap ```"
      ]
    },
    {
      "cell_type": "code",
      "execution_count": null,
      "metadata": {
        "id": "Q4XhWBQrwahX"
      },
      "outputs": [],
      "source": [
        "df1 = pd.DataFrame(np.random.randn(6,4), index=list(range(0,12,2)), columns=list('abcd'))\n",
        "df1"
      ]
    },
    {
      "cell_type": "code",
      "execution_count": null,
      "metadata": {
        "id": "Yof2rcOywahX"
      },
      "outputs": [],
      "source": [
        "A = np.random.randn(6,4)\n",
        "print(np.mean(A, axis=0))\n",
        "print(A[0])"
      ]
    },
    {
      "cell_type": "code",
      "execution_count": null,
      "metadata": {
        "id": "oMCyYZ6CwahX"
      },
      "outputs": [],
      "source": [
        "print(np.mean(A, axis=1))\n",
        "print(A[:,0])"
      ]
    },
    {
      "cell_type": "markdown",
      "source": [
        "Apply to each column"
      ],
      "metadata": {
        "id": "cY78c-5b1o1b"
      }
    },
    {
      "cell_type": "code",
      "execution_count": null,
      "metadata": {
        "id": "-bUde_k_wahY"
      },
      "outputs": [],
      "source": [
        "df1.apply(np.mean, axis=0)"
      ]
    },
    {
      "cell_type": "markdown",
      "source": [
        "Apply to each row"
      ],
      "metadata": {
        "id": "j03tOaQ_1nfw"
      }
    },
    {
      "cell_type": "code",
      "execution_count": null,
      "metadata": {
        "id": "Uy1dfMuBwahY"
      },
      "outputs": [],
      "source": [
        "df1.apply(np.mean, axis=1)"
      ]
    },
    {
      "cell_type": "markdown",
      "source": [
        "Use lambda functions  to normalize columns"
      ],
      "metadata": {
        "id": "dgDb8ftk1lzb"
      }
    },
    {
      "cell_type": "code",
      "execution_count": null,
      "metadata": {
        "id": "imxjrnkawahY"
      },
      "outputs": [],
      "source": [
        "df1.apply(lambda x: (x - x.mean())/ x.std(), axis = 0)"
      ]
    },
    {
      "cell_type": "code",
      "execution_count": null,
      "metadata": {
        "id": "amVgQxHRwahY"
      },
      "outputs": [],
      "source": [
        "df1.applymap(np.exp)"
      ]
    },
    {
      "cell_type": "markdown",
      "metadata": {
        "id": "tekeiQcmwahY"
      },
      "source": [
        "**Bibliography** - this notebook used content from some of the following sources:\n",
        "* [CME 193 (Stanford)](https://github.com/icme/cme193)\n",
        "* [Pandas Tutorials](https://pandas.pydata.org/docs/getting_started/intro_tutorials/index.html)"
      ]
    },
    {
      "cell_type": "markdown",
      "source": [
        "# Reference\n",
        "\n",
        "1.   [Brad Nelson (2021), Scientific Computing with Python](https://caam37830.github.io/book/index.html)\n",
        "2.   [Krishna et al. (2022) Introduction to Data Science with Python](https://nustat.github.io/DataScience_Intro_python/Introduction%20to%20Python%20and%20Jupyter%20Notebooks.html)\n",
        "3. [Serafina Di Gioia (2024), Python 101, SMR 3935](https://indico.ictp.it/event/10473)\n"
      ],
      "metadata": {
        "id": "pBsc-0E1Ar6K"
      }
    }
  ]
}