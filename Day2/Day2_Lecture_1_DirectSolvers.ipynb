{
  "nbformat": 4,
  "nbformat_minor": 0,
  "metadata": {
    "colab": {
      "provenance": []
    },
    "kernelspec": {
      "name": "python3",
      "display_name": "Python 3"
    },
    "language_info": {
      "name": "python"
    }
  },
  "cells": [
    {
      "cell_type": "markdown",
      "source": [
        "<a href=\"https://colab.research.google.com/github/rhudaina/Linear-Systems-and-Applications-A-Hands-On-Python-Workshop/blob/main/Day2/Day2_Lecture_1_DirectSolvers.ipynb\" target=\"_parent\"><img src=\"https://colab.research.google.com/assets/colab-badge.svg\" alt=\"Open In Colab\"/></a>"
      ],
      "metadata": {
        "id": "5RNGj9vUZwXe"
      }
    },
    {
      "cell_type": "markdown",
      "source": [
        "In this notebook, we wish to solve linear system\n",
        "$$Ax = y$$"
      ],
      "metadata": {
        "id": "_hZHZ9b0mEZE"
      }
    },
    {
      "cell_type": "markdown",
      "source": [
        "# BLAS and LAPACK"
      ],
      "metadata": {
        "id": "DULwJ1HSnccz"
      }
    },
    {
      "cell_type": "markdown",
      "source": [
        "Regardless of what language you're using, chances are if you're doing numerical linear algebra, you are able to take advantage of libraries of code which implement most common linear algebra routines and factorizations.\n",
        "* [BLAS (Basic Linear Algebra Subprograms)](https://www.netlib.org/blas/) - routines that provide standard building blocks for performing basic vector and matrix operations\n",
        "* [LAPACK (Linear Algebra PACKage)](https://www.netlib.org/lapack/) - routines for solving systems of simultaneous linear equations, least-squares solutions of linear systems of equations, eigenvalue problems, and singular value problems\n",
        "\n",
        "\n",
        "The [NumPy linear algebra](https://numpy.org/doc/stable/reference/routines.linalg.html#module-numpy.linalg) functions rely on BLAS and LAPACK to provide efficient low level implementations of standard linear algebra algorithms."
      ],
      "metadata": {
        "id": "z2wKCmwPnf5T"
      }
    },
    {
      "cell_type": "markdown",
      "source": [
        "You can view what BLAS and LAPACK libraries NumPy is using"
      ],
      "metadata": {
        "id": "IwTs02HLoJ0K"
      }
    },
    {
      "cell_type": "code",
      "source": [
        "import numpy as np\n",
        "\n",
        "np.__config__.show()"
      ],
      "metadata": {
        "id": "PvREmtyVpPZj"
      },
      "execution_count": null,
      "outputs": []
    },
    {
      "cell_type": "markdown",
      "source": [
        "[SciPy (Scientific Python)](https://docs.scipy.org/doc/scipy/tutorial/index.html) is a collection of mathematical algorithms and convenience functions built on NumPy. It adds significant power to Python by providing the user with high-level commands and classes for manipulating and visualizing data.\n",
        "\n",
        "The SciPy library also contains a linalg submodule, and there is overlap in the functionality provided by the SciPy and NumPy submodules."
      ],
      "metadata": {
        "id": "EH0qH3AWpAUN"
      }
    },
    {
      "cell_type": "code",
      "source": [
        "import scipy as sp"
      ],
      "metadata": {
        "id": "GAA2bkvLpmrn"
      },
      "execution_count": null,
      "outputs": []
    },
    {
      "cell_type": "markdown",
      "source": [
        "# Matrix Factorizations"
      ],
      "metadata": {
        "id": "NGeaBC3HgQYd"
      }
    },
    {
      "cell_type": "markdown",
      "source": [
        "\n",
        "A **matrix factorization** or **matrix decomposition** writes a matrix $A$ as the product of matrices $A = BCD\\dots$, where the matrices in the product typically have some special structure.\n",
        "\n",
        "For example:\n",
        "* Diagonal matrices - easy to apply and solve linear systems\n",
        "* Triangular matrices (upper or lower) - fast to solve linear systems\n",
        "* Orthonormal matrices: $Q$ orthogonal means $Q^T = Q^{\\dagger}$ (pseudoinverse)\n",
        "* Permutation matrices: sparse orthonormal matrices\n",
        "\n",
        "Most of the matrix factorizations we will see run in $O(n^3)$ time for a $n\\times n$ matrix $A$, or $O(\\min(m,n)^2 \\max(m,n))$ for a $m\\times n$ matrix $A$."
      ],
      "metadata": {
        "id": "Fc1BkyHcqz6f"
      }
    },
    {
      "cell_type": "markdown",
      "source": [
        "## LU Factorization (for square matrices)\n"
      ],
      "metadata": {
        "id": "m5-07-ezgWCq"
      }
    },
    {
      "cell_type": "markdown",
      "source": [
        "For numerical stability, this is often computed with a *pivoting* strategy, which means there is also row or column permutation matrix $P$ in the factorization:\n",
        "$$ A = PLU$$\n",
        "where $L$ is lower-triangular and $U$ is upper triangular.  "
      ],
      "metadata": {
        "id": "d07QF8j8rI_t"
      }
    },
    {
      "cell_type": "code",
      "source": [
        "n = 1000\n",
        "A = np.random.randn(n, n)\n",
        "x = np.random.rand(n)\n",
        "y = A @ x\n",
        "\n",
        "P, L, U = sp.linalg.lu(A)"
      ],
      "metadata": {
        "id": "VXMhVEeXimzD"
      },
      "execution_count": null,
      "outputs": []
    },
    {
      "cell_type": "code",
      "source": [
        "sp.linalg.norm(P @ L @ U - A)"
      ],
      "metadata": {
        "id": "kOazLA4Tkis7"
      },
      "execution_count": null,
      "outputs": []
    },
    {
      "cell_type": "markdown",
      "source": [
        "The nice thing about triangular matrices is that they can solve linear systems in $O(n^2)$ time, instead of $O(n^3)$ time for general matrices, using the forward or backward substitution algorithms via a special function `solve_triangular`. See [documentation](https://docs.scipy.org/doc/scipy-1.13.0/reference/generated/scipy.linalg.solve_triangular.html)"
      ],
      "metadata": {
        "id": "7E0BYNcArpM6"
      }
    },
    {
      "cell_type": "code",
      "source": [
        "from scipy.linalg import solve_triangular\n",
        "\n",
        "z = solve_triangular(L, P.T @ y, lower=True)  # forward substitution\n",
        "x_lu = solve_triangular(U, z, lower=False)    # backward substitution"
      ],
      "metadata": {
        "id": "nPdhhy5rtYRD"
      },
      "execution_count": null,
      "outputs": []
    },
    {
      "cell_type": "code",
      "source": [
        "sp.linalg.norm(x_lu - x)"
      ],
      "metadata": {
        "id": "kzZOAl_1t3aX"
      },
      "execution_count": null,
      "outputs": []
    },
    {
      "cell_type": "markdown",
      "source": [
        "Let us define a function that solves a given linear system using LU factorization and check its computational cost."
      ],
      "metadata": {
        "id": "HjGD5sBNyBAH"
      }
    },
    {
      "cell_type": "code",
      "source": [
        "def solve_lu(A, y):\n",
        "  ''' solves Ax = y using LU factorization '''\n",
        "  P, L, U = sp.linalg.lu(A)\n",
        "  z = solve_triangular(L, P.T @ y, lower=True)\n",
        "  x = solve_triangular(U, z, lower=False)\n",
        "  return x"
      ],
      "metadata": {
        "id": "1fAZSDp_ry1W"
      },
      "execution_count": null,
      "outputs": []
    },
    {
      "cell_type": "code",
      "source": [
        "%timeit solve_lu(A,y)"
      ],
      "metadata": {
        "id": "7gj1BCX-jDb4"
      },
      "execution_count": null,
      "outputs": []
    },
    {
      "cell_type": "markdown",
      "source": [
        "Alternatively, we can do the following:"
      ],
      "metadata": {
        "id": "YBZuNH6iyMO0"
      }
    },
    {
      "cell_type": "code",
      "source": [
        "k = 7\n",
        "size = [2**(i+4) for i in range(k)]\n",
        "print(size)"
      ],
      "metadata": {
        "id": "F027G8WPz1rq"
      },
      "execution_count": null,
      "outputs": []
    },
    {
      "cell_type": "code",
      "source": [
        "import time\n",
        "\n",
        "time_lu = np.zeros(k)\n",
        "\n",
        "for i in range(k):\n",
        "  n = 2**(i+4)\n",
        "  A = np.random.randn(n, n)\n",
        "  x = np.random.rand(n)\n",
        "  y = A @ x\n",
        "\n",
        "  t_start = time.time()\n",
        "  x_lu = solve_lu(A,y)\n",
        "  t_end = time.time()\n",
        "  time_lu[i] = t_end - t_start"
      ],
      "metadata": {
        "id": "K-ir-tzhwPA-"
      },
      "execution_count": null,
      "outputs": []
    },
    {
      "cell_type": "code",
      "source": [
        "import matplotlib.pyplot as plt\n",
        "\n",
        "plt.plot(size, time_lu)\n",
        "plt.xscale('log', base=2)\n",
        "plt.xlabel('size of matrix')\n",
        "plt.ylabel('time')\n",
        "plt.show()"
      ],
      "metadata": {
        "id": "SPPsO7c-yQ5Q"
      },
      "execution_count": null,
      "outputs": []
    },
    {
      "cell_type": "markdown",
      "source": [
        "## QR Factorization"
      ],
      "metadata": {
        "id": "otZlBmn9x8cQ"
      }
    },
    {
      "cell_type": "markdown",
      "source": [
        "We decompose matrix $$A = QR$$ into a matrix $Q$ with orthonormal columns, and an upper triangular matrix $R$.  "
      ],
      "metadata": {
        "id": "TP3sQA8y1vZT"
      }
    },
    {
      "cell_type": "code",
      "source": [
        "n = 1000\n",
        "m = 500\n",
        "A = np.random.randn(n, m)\n",
        "\n",
        "Q, R = np.linalg.qr(A)\n",
        "print(Q.shape, R.shape)\n",
        "\n",
        "np.linalg.norm(Q @ R  - A)"
      ],
      "metadata": {
        "id": "dhyswC5W2Q6Y"
      },
      "execution_count": null,
      "outputs": []
    },
    {
      "cell_type": "code",
      "source": [
        "Q, R = np.linalg.qr(A, mode='complete')\n",
        "print(Q.shape, R.shape)\n",
        "\n",
        "np.linalg.norm(Q @ R  - A)"
      ],
      "metadata": {
        "id": "Ksy8d7Mw2td3"
      },
      "execution_count": null,
      "outputs": []
    },
    {
      "cell_type": "markdown",
      "source": [
        "Using `scipy`:"
      ],
      "metadata": {
        "id": "-zR4wgnX2y1f"
      }
    },
    {
      "cell_type": "code",
      "source": [
        "Q, R = sp.linalg.qr(A, mode='economic')\n",
        "print(Q.shape, R.shape)\n",
        "\n",
        "sp.linalg.norm(Q @ R  - A)"
      ],
      "metadata": {
        "id": "FgETtOVE2E4y"
      },
      "execution_count": null,
      "outputs": []
    },
    {
      "cell_type": "markdown",
      "source": [
        "The QR factorization is used for least-squares solutions."
      ],
      "metadata": {
        "id": "5gQpL-RQ3BuK"
      }
    },
    {
      "cell_type": "code",
      "source": [
        "def solve_qr(A, y):\n",
        "  ''' solves least squares problem ||Ax - y|| using QR factorization '''\n",
        "  Q, R = sp.linalg.qr(A, mode='economic')\n",
        "  z = Q.T @ y\n",
        "  x = solve_triangular(R, z, lower=False)\n",
        "  return x"
      ],
      "metadata": {
        "id": "Wq6lEXbV3M0d"
      },
      "execution_count": null,
      "outputs": []
    },
    {
      "cell_type": "code",
      "source": [
        "x = np.random.rand(m)\n",
        "y = A @ x\n",
        "\n",
        "x_qr = solve_qr(A, y)\n",
        "sp.linalg.norm(x_qr - x)"
      ],
      "metadata": {
        "id": "oJ0wQDpR4A6V"
      },
      "execution_count": null,
      "outputs": []
    },
    {
      "cell_type": "code",
      "source": [
        "k = 7\n",
        "size = [2**(i+4) for i in range(k)]\n",
        "print(size)"
      ],
      "metadata": {
        "id": "MSBAwDTM4pAq"
      },
      "execution_count": null,
      "outputs": []
    },
    {
      "cell_type": "code",
      "source": [
        "import time\n",
        "\n",
        "time_qr = np.zeros(k)\n",
        "\n",
        "for i in range(k):\n",
        "  n = 2**(i+4)\n",
        "  m = 2**(i+3)\n",
        "  A = np.random.randn(n, m)\n",
        "  x = np.random.rand(m)\n",
        "  y = A @ x\n",
        "\n",
        "  t_start = time.time()\n",
        "  x_qr = solve_qr(A,y)\n",
        "  t_end = time.time()\n",
        "  time_qr[i] = t_end - t_start"
      ],
      "metadata": {
        "id": "QoHhjeeS4r8v"
      },
      "execution_count": null,
      "outputs": []
    },
    {
      "cell_type": "code",
      "source": [
        "import matplotlib.pyplot as plt\n",
        "\n",
        "plt.plot(size, time_qr)\n",
        "plt.xscale('log', base=2)\n",
        "plt.xlabel('size of matrix')\n",
        "plt.ylabel('time')\n",
        "plt.show()"
      ],
      "metadata": {
        "id": "2ASG44gX5Z1-"
      },
      "execution_count": null,
      "outputs": []
    },
    {
      "cell_type": "markdown",
      "source": [
        "## Eigenvalue Decomposition"
      ],
      "metadata": {
        "id": "9cIZ2FM-6hBi"
      }
    },
    {
      "cell_type": "markdown",
      "source": [
        "A vector $x$ is an eigenvector of $A$ with eigenvalue $\\lambda$ if $Ax = x \\lambda$.  An eigenvalue decomposition is a decomposition $A = X \\Lambda X^{-1}$ where $\\Lambda$ is a diagonal matrix.  We can compute such a decomposition using `eig`:"
      ],
      "metadata": {
        "id": "FYKvaOCB6jqy"
      }
    },
    {
      "cell_type": "code",
      "source": [
        "n = 1000\n",
        "A = np.random.randn(n, n)\n",
        "Lam, X = sp.linalg.eig(A)"
      ],
      "metadata": {
        "id": "RZDuBlhz6lSM"
      },
      "execution_count": null,
      "outputs": []
    },
    {
      "cell_type": "markdown",
      "source": [
        "The columns of `X` are eigenvectors, and eigenvalues are diagonal entries of `Lam`"
      ],
      "metadata": {
        "id": "DLXMyYeO7Ll8"
      }
    },
    {
      "cell_type": "code",
      "source": [
        "x = X[:,0]\n",
        "sp.linalg.norm(A @ x - Lam[0] * x)"
      ],
      "metadata": {
        "id": "vZCi3KK77Ngc"
      },
      "execution_count": null,
      "outputs": []
    },
    {
      "cell_type": "markdown",
      "source": [
        "When `A` is symmetric (or Hermitian), there exists and orthonormal basis where every basis element is an eigenvector.  In this case, we can write $A = U\\Lambda U^H$.  There is a special function `eigh` for such a situation."
      ],
      "metadata": {
        "id": "oYurICuO7Qzw"
      }
    },
    {
      "cell_type": "code",
      "source": [
        "A = np.random.randn(n,n)\n",
        "A = A + A.T               # make symmetric\n",
        "Lam, U = sp.linalg.eigh(A)"
      ],
      "metadata": {
        "id": "B2ozmQvn7U9V"
      },
      "execution_count": null,
      "outputs": []
    },
    {
      "cell_type": "code",
      "source": [
        "x = U[:,0]\n",
        "sp.linalg.norm(A @ x - Lam[0] * x)"
      ],
      "metadata": {
        "id": "YJi_TlZA7a8P"
      },
      "execution_count": null,
      "outputs": []
    },
    {
      "cell_type": "code",
      "source": [
        "sp.linalg.norm(U @ U.T - np.eye(n))"
      ],
      "metadata": {
        "id": "Ud8ovXcS7jNc"
      },
      "execution_count": null,
      "outputs": []
    },
    {
      "cell_type": "markdown",
      "source": [
        "Both eigenvector decompositions `eig` and `eigh` take $O(n^3)$ time for a $n\\times n$ matrix.\n",
        "\n",
        "Let us investigate which is faster in practice on a symmetric matrix."
      ],
      "metadata": {
        "id": "_tNZTtuI7tSL"
      }
    },
    {
      "cell_type": "code",
      "source": [
        "k = 7\n",
        "size = [2**(i+4) for i in range(k)]\n",
        "print(size)"
      ],
      "metadata": {
        "id": "F7Lb0XBI7soQ"
      },
      "execution_count": null,
      "outputs": []
    },
    {
      "cell_type": "code",
      "source": [
        "import time\n",
        "\n",
        "t_eig = np.zeros(k)\n",
        "t_eigh = np.zeros(k)\n",
        "\n",
        "\n",
        "for i in range(k):\n",
        "  n = 2**(i+4)\n",
        "  A = np.random.randn(n,n)\n",
        "  A = A + A.T\n",
        "\n",
        "  t_start = time.time()\n",
        "  _, X = sp.linalg.eig(A)\n",
        "  t_end = time.time()\n",
        "  t_eig[i] = t_end - t_start\n",
        "\n",
        "  t_start = time.time()\n",
        "  _, U = sp.linalg.eigh(A)\n",
        "  t_end = time.time()\n",
        "  t_eigh[i] = t_end - t_start"
      ],
      "metadata": {
        "id": "H1bKc9px8TfC"
      },
      "execution_count": null,
      "outputs": []
    },
    {
      "cell_type": "code",
      "source": [
        "import matplotlib.pyplot as plt\n",
        "\n",
        "plt.plot(size, t_eig, label ='eig')\n",
        "plt.plot(size, t_eigh, label ='eigh')\n",
        "plt.xscale('log', base=2)\n",
        "plt.xlabel('size of matrix')\n",
        "plt.ylabel('time')\n",
        "plt.legend()\n",
        "plt.show()"
      ],
      "metadata": {
        "id": "w_bBdeyu9b4l"
      },
      "execution_count": null,
      "outputs": []
    },
    {
      "cell_type": "markdown",
      "source": [
        "Solving $Ax = y$ translates to solving\n",
        "$$X \\Lambda X^{-1}x = y.$$\n",
        "Since $X$ is orthogonal, then $XX^T = X^TX = I$. Hence, we have\n",
        "$$x = X\\Lambda^{-1}X^Ty$$\n",
        "where $\\Lambda^{-1}$ is a diagonal matrix whose diagonal entries are the reciprocal of the eigenvalues.\n"
      ],
      "metadata": {
        "id": "L2GmkpoYAQdG"
      }
    },
    {
      "cell_type": "code",
      "source": [
        "def solve_eigh(A, y):\n",
        "  ''' solves Ax = y using eigenvalue decomposition with eigh '''\n",
        "  Lam, U = sp.linalg.eigh(A)\n",
        "  x = U @ np.diag(1/Lam) @ U.T @ y\n",
        "  return x"
      ],
      "metadata": {
        "id": "Hs14XSQYAQL6"
      },
      "execution_count": null,
      "outputs": []
    },
    {
      "cell_type": "code",
      "source": [
        "import time\n",
        "\n",
        "time_lu = np.zeros(k)\n",
        "time_qr = np.zeros(k)\n",
        "time_eigh = np.zeros(k)\n",
        "\n",
        "for i in range(k):\n",
        "  n = 2**(i+4)\n",
        "  A = np.random.randn(n,n)\n",
        "  A = A + A.T\n",
        "  x = np.random.randn(n)\n",
        "  y = A @ x\n",
        "\n",
        "  t_start = time.time()\n",
        "  x = solve_lu(A,y)\n",
        "  t_end = time.time()\n",
        "  time_lu[i] = t_end - t_start\n",
        "\n",
        "  t_start = time.time()\n",
        "  x = solve_qr(A,y)\n",
        "  t_end = time.time()\n",
        "  time_qr[i] = t_end - t_start\n",
        "\n",
        "  t_start = time.time()\n",
        "  x = solve_eigh(A,y)\n",
        "  t_end = time.time()\n",
        "  time_eigh[i] = t_end - t_start"
      ],
      "metadata": {
        "id": "heHgyAHPBc-e"
      },
      "execution_count": null,
      "outputs": []
    },
    {
      "cell_type": "code",
      "source": [
        "import matplotlib.pyplot as plt\n",
        "\n",
        "plt.plot(size, time_lu, label ='LU')\n",
        "plt.plot(size, time_qr, label ='QR')\n",
        "plt.plot(size, time_eigh, label ='eigh')\n",
        "plt.xscale('log', base=2)\n",
        "plt.yscale('log', base=10)\n",
        "plt.xlabel('size of matrix')\n",
        "plt.ylabel('time')\n",
        "plt.legend()\n",
        "plt.show()"
      ],
      "metadata": {
        "id": "pQHkYyLgCDgR"
      },
      "execution_count": null,
      "outputs": []
    },
    {
      "cell_type": "markdown",
      "source": [
        "## SVD"
      ],
      "metadata": {
        "id": "L-xtqp-qCo1V"
      }
    },
    {
      "cell_type": "markdown",
      "source": [
        "The singular value decomposition is an extremely useful practical and theoretical tool.  We can decompose a $m\\times n$ matrix $A$ as $A = U \\Sigma V^T$, where $U$ is a $m \\times m$ matrix with orthonormal columns (called left singular vectors), $V$ is a $n\\times n$ matrix with orthonormal columns (called right singular vectors), and $\\Sigma$ is a diagonal matrix with positive entries decreasing in magnitude (called singular values).\n",
        "\n",
        "The top singular value solves the variational problem $\\sigma_0 = \\max u^T A v$ subject to $\\|u\\|_2 = 1, \\|v\\|_2=1$, and describes the direction in which $A$ induces the largest change in maginitude in a vector. The next singular value is defined similarly on the subspaces orthogonal to $u$ and $v$, and so on."
      ],
      "metadata": {
        "id": "ITJdNFxzCqJm"
      }
    },
    {
      "cell_type": "markdown",
      "source": [
        "One way to visualize the action of a matrix is seeing how it maps the unit sphere.  The image is an ellipsoid, and the right singular vectors give the directions of the axes, and the singular values give the lengths of these axes."
      ],
      "metadata": {
        "id": "OdWOIoC1Cv5J"
      }
    },
    {
      "cell_type": "code",
      "source": [
        "n = 2\n",
        "A = np.random.randn(n,n)\n",
        "U, S, Vt = sp.linalg.svd(A)"
      ],
      "metadata": {
        "id": "rcJc4YxiCwgT"
      },
      "execution_count": null,
      "outputs": []
    },
    {
      "cell_type": "code",
      "source": [
        "theta = np.linspace(0, 2*np.pi, num=200, endpoint=True)\n",
        "xx = np.vstack((np.cos(theta), np.sin(theta)))\n",
        "yy = A @ xx\n",
        "\n",
        "plt.plot(yy[0], yy[1])\n",
        "plt.scatter(S*U[0], S*U[1])\n",
        "plt.axis('equal')\n",
        "plt.show()"
      ],
      "metadata": {
        "id": "COZ8VjReC1zW"
      },
      "execution_count": null,
      "outputs": []
    },
    {
      "cell_type": "markdown",
      "source": [
        "Computing the SVD takes $O(n^3)$ time for a $n\\times n$ matrix, just like all the other matrix factorizations we've seen."
      ],
      "metadata": {
        "id": "fvCE_geADXFC"
      }
    },
    {
      "cell_type": "code",
      "source": [
        "n = 1000\n",
        "A = np.random.randn(n, n//5)\n",
        "\n",
        "U, S, Vh = np.linalg.svd(A)\n",
        "print(U.shape, S.shape, Vh.shape)"
      ],
      "metadata": {
        "id": "-UpYrukWGaas"
      },
      "execution_count": null,
      "outputs": []
    },
    {
      "cell_type": "code",
      "source": [
        "U, S, Vh = np.linalg.svd(A, full_matrices=False)\n",
        "print(U.shape, S.shape, Vh.shape)"
      ],
      "metadata": {
        "id": "Tj6uTFhDGt-k"
      },
      "execution_count": null,
      "outputs": []
    },
    {
      "cell_type": "markdown",
      "source": [
        "Using `scipy`:"
      ],
      "metadata": {
        "id": "NnQLnCMeGXRV"
      }
    },
    {
      "cell_type": "code",
      "source": [
        "U, S, Vh = sp.linalg.svd(A)\n",
        "print(U.shape, S.shape, Vh.shape)"
      ],
      "metadata": {
        "id": "sBAwmosrDYe5"
      },
      "execution_count": null,
      "outputs": []
    },
    {
      "cell_type": "code",
      "source": [
        "U, S, Vh = sp.linalg.svd(A, full_matrices = False)\n",
        "print(U.shape, S.shape, Vh.shape)\n",
        "\n",
        "sp.linalg.norm(U @ np.diag(S) @ Vh  - A)"
      ],
      "metadata": {
        "id": "oPiMzV31GSm6"
      },
      "execution_count": null,
      "outputs": []
    },
    {
      "cell_type": "markdown",
      "source": [
        "Define a function that solves linear system $Ax = y$ using SVD"
      ],
      "metadata": {
        "id": "_d0-55GTHEVd"
      }
    },
    {
      "cell_type": "code",
      "source": [
        "def solve_svd(A, y):\n",
        "  ''' solves Ax = y using SVD '''\n",
        "  U, S, Vh = sp.linalg.svd(A, full_matrices = False)\n",
        "  x = Vh.T @ np.diag(1/S) @ U.T @ y\n",
        "  return x"
      ],
      "metadata": {
        "id": "s_NPBApnHIE5"
      },
      "execution_count": null,
      "outputs": []
    },
    {
      "cell_type": "code",
      "source": [
        "x = np.random.randn(n//5)\n",
        "y = A @ x\n",
        "x_svd = solve_svd(A,y)\n",
        "sp.linalg.norm(x_svd - x)"
      ],
      "metadata": {
        "id": "LrPi8URcHVK6"
      },
      "execution_count": null,
      "outputs": []
    },
    {
      "cell_type": "markdown",
      "source": [
        "### Example 1"
      ],
      "metadata": {
        "id": "6V8z1SXpUNfU"
      }
    },
    {
      "cell_type": "code",
      "source": [
        "n = 50;\n",
        "\n",
        "# setup true data\n",
        "m = 3;\n",
        "b = 2;\n",
        "t = np.linspace(-2,2,n);\n",
        "ytrue = m*t + b;\n",
        "\n",
        "# generate noisy data\n",
        "A = np.ones((n,2));\n",
        "A[:,0] = t;\n",
        "y = ytrue + np.random.randn(n);\n",
        "\n",
        "x = solve_svd(A, y)"
      ],
      "metadata": {
        "id": "h-E6scPVUQP2"
      },
      "execution_count": null,
      "outputs": []
    },
    {
      "cell_type": "code",
      "source": [
        "import matplotlib.pyplot as plt\n",
        "plt.plot(t,ytrue,'b',label='True Line');\n",
        "plt.plot(t,y,'r.',label='Noisy Data');\n",
        "plt.plot(t,np.dot(A,x),'k--',label='Fitted Line');\n",
        "plt.legend()\n",
        "plt.show()"
      ],
      "metadata": {
        "id": "MbJ7ljB7Um-k"
      },
      "execution_count": null,
      "outputs": []
    },
    {
      "cell_type": "markdown",
      "source": [
        "### Example 2"
      ],
      "metadata": {
        "id": "Yh1mMWNAUuOV"
      }
    },
    {
      "cell_type": "code",
      "source": [
        "A = np.array([[7,26,6,60],\n",
        "              [1,29,15,52],\n",
        "              [11,56,8,20],\n",
        "              [11,31,8,47],\n",
        "              [7,52,6,33],\n",
        "              [11,55,9,22],\n",
        "              [3,71,17,6],\n",
        "              [1,31,22,44],\n",
        "              [2,54,18,22],\n",
        "              [21,47,4,26],\n",
        "              [1,40,23,34],\n",
        "              [11,66,9,12],\n",
        "              [10,68,8,12]]);\n",
        "print(\"A =\\n\",A);\n",
        "\n",
        "y = np.array([78.5, 74.3, 104.3, 87.6, 95.9, 109.2, 102.7, 72.5, 93.1, 115.9, 83.8, 113.3, 109.4]);\n",
        "print(\"y = \",y)"
      ],
      "metadata": {
        "id": "rgtUUq_8UwWQ"
      },
      "execution_count": null,
      "outputs": []
    },
    {
      "cell_type": "code",
      "source": [
        "x = solve_svd(A,y)\n",
        "print(x)"
      ],
      "metadata": {
        "id": "J6ts-SymVEpc"
      },
      "execution_count": null,
      "outputs": []
    },
    {
      "cell_type": "code",
      "source": [
        "x = np.linalg.pinv(A) @ y\n",
        "print(x)"
      ],
      "metadata": {
        "id": "j98OYCuYVFQ0"
      },
      "execution_count": null,
      "outputs": []
    },
    {
      "cell_type": "code",
      "source": [
        "import matplotlib.pyplot as plt\n",
        "plt.plot(y,'b',label='Heat Data');\n",
        "plt.plot(np.matmul(A,x),'r',label='Solution');\n",
        "plt.xlabel(\"Cement mixtures\");\n",
        "plt.ylabel(\"Heat\");\n",
        "plt.legend()\n",
        "plt.show()"
      ],
      "metadata": {
        "id": "_4Fa1PF3VKwN"
      },
      "execution_count": null,
      "outputs": []
    },
    {
      "cell_type": "markdown",
      "source": [
        "### Example 3. BVP via FDM\n",
        "\n",
        "$$\\begin{cases} -u'' = \\frac{\\pi}{2}\\sin\\big(\\frac{\\pi}{2}\\big)\\qquad 0\\leq x\\leq 1\\\\u(0) = 0\\\\ u(1) = 0 \\end{cases}$$"
      ],
      "metadata": {
        "id": "6dZoOmyIIXKp"
      }
    },
    {
      "cell_type": "code",
      "source": [],
      "metadata": {
        "id": "seSL3AAHIYsZ"
      },
      "execution_count": null,
      "outputs": []
    },
    {
      "cell_type": "markdown",
      "source": [
        "# Reference\n",
        "\n",
        "1.   [Brad Nelson (2021), Scientific Computing with Python](https://caam37830.github.io/book/index.html)\n",
        "\n"
      ],
      "metadata": {
        "id": "pBsc-0E1Ar6K"
      }
    }
  ]
}