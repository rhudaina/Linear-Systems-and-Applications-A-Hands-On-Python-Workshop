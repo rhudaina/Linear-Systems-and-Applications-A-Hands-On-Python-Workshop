{
  "nbformat": 4,
  "nbformat_minor": 0,
  "metadata": {
    "colab": {
      "provenance": []
    },
    "kernelspec": {
      "name": "python3",
      "display_name": "Python 3"
    },
    "language_info": {
      "name": "python"
    }
  },
  "cells": [
    {
      "cell_type": "markdown",
      "source": [
        "<a href=\"https://colab.research.google.com/github/rhudaina/Linear-Systems-and-Applications-A-Hands-On-Python-Workshop/blob/main/Day2/Day_2_Hands_on_Activity_1.ipynb\" target=\"_parent\"><img src=\"https://colab.research.google.com/assets/colab-badge.svg\" alt=\"Open In Colab\"/></a>"
      ],
      "metadata": {
        "id": "z78EioSmX3ld"
      }
    },
    {
      "cell_type": "markdown",
      "source": [
        "### 1. Consider $n\\times n$ random matrix. Compare runtimes for solving $$Ax = y$$ using LU, QR, `eig`, SVD, `np.linalg.inv`, `np.linalg.solve`, `np.linalg.pinv` for $n=2,2^2,2^3,\\ldots,2^{11}$. Which is the fastest?"
      ],
      "metadata": {
        "id": "FJKhNfu2LfIT"
      }
    },
    {
      "cell_type": "code",
      "source": [],
      "metadata": {
        "id": "-snr198FLrKC"
      },
      "execution_count": null,
      "outputs": []
    },
    {
      "cell_type": "markdown",
      "source": [
        "### 2. Consider approximating the solution to the boundary value problem $$\\begin{cases} -u'' = \\frac{\\pi}{2}\\sin\\big(\\frac{\\pi}{2}x\\big)\\qquad 0\\leq x\\leq 1\\\\u(0) = 0\\\\ u(1) = 0\\end{cases}$$ via finite difference method. Solve the resulting linear system $Ax = y$ using LU, QR, `eig`, SVD, `np.linalg.inv`, `np.linalg.solve`, `np.linalg.pinv`. Which is the fastest when matrix $A$ is $1000\\times 1000$?"
      ],
      "metadata": {
        "id": "FLJjwCGPIPNp"
      }
    },
    {
      "cell_type": "code",
      "source": [],
      "metadata": {
        "id": "Gol8CAICIPuT"
      },
      "execution_count": null,
      "outputs": []
    },
    {
      "cell_type": "markdown",
      "source": [
        "Source: [Brad Nelson (2021), Scientific Computing with Python](https://caam37830.github.io/book/index.html)"
      ],
      "metadata": {
        "id": "MyZBv8p0ZzWt"
      }
    }
  ]
}